{
 "cells": [
  {
   "cell_type": "markdown",
   "metadata": {},
   "source": [
    "<img src=\"http://imgur.com/1ZcRyrc.png\" style=\"float: left; margin: 20px; height: 55px\">\n",
    "\n",
    "# Gradient Descent Lab\n",
    "\n",
    "_Authors: Ben Shaver (DC), h/t Matt Brems (DC)_\n",
    "\n",
    "### Learning Objectives:\n",
    "- Review the basics of linear regression\n",
    "- Implement gradient descent by scratch to fit a simple linear regression model\n",
    "- Practice basic layered plots in Matplotlib\n",
    "\n",
    "---\n"
   ]
  },
  {
   "cell_type": "markdown",
   "metadata": {},
   "source": [
    "## Introduction and preliminaries"
   ]
  },
  {
   "cell_type": "markdown",
   "metadata": {},
   "source": [
    "In this lab, we'll examine some (completely made up) data in order to fit a model that predicts a GA grad's salary as a function of their number of years of pre-GA professional experience. First, you'll guess at the relationship between those two variables, and then we'll implement gradient descent from scratch in order to iteratively improve our guess until we end up with a well-fitted model.\n",
    "\n",
    "(You may find that [this article](https://spin.atomicobject.com/2014/06/24/gradient-descent-linear-regression/) helps you understand gradient descent. Reading through it *may* be a good decision before you complete this lab, though it should not be necessary.)"
   ]
  },
  {
   "cell_type": "code",
   "execution_count": 32,
   "metadata": {},
   "outputs": [],
   "source": [
    "import pandas as pd\n",
    "import numpy as np\n",
    "import matplotlib.pyplot as plt\n",
    "# testing this here\n",
    "import matplotlib.lines as lines\n",
    "\n",
    "%matplotlib inline"
   ]
  },
  {
   "cell_type": "markdown",
   "metadata": {
    "ExecuteTime": {
     "end_time": "2018-02-21T18:12:26.203651Z",
     "start_time": "2018-02-21T18:12:26.192152Z"
    }
   },
   "source": [
    "#### Write a Python function that predicts a student's post-GA income based on their number of years of previous experience:\n",
    "It should take years of experience, an intercept _b_, and a slope _m_ as arguments. (In simple linear regression, we call the y-intercept $\\beta_0$ and the slope $\\beta_1$, but we'll use $b$ and $m$ for ease.) It will return the post-GA income."
   ]
  },
  {
   "cell_type": "markdown",
   "metadata": {},
   "source": [
    "y = mx + b"
   ]
  },
  {
   "cell_type": "code",
   "execution_count": 4,
   "metadata": {
    "ExecuteTime": {
     "end_time": "2018-02-21T21:35:55.557454Z",
     "start_time": "2018-02-21T21:35:55.552440Z"
    }
   },
   "outputs": [],
   "source": [
    "def income(y_exp, m, b):\n",
    "    '''\n",
    "    y_exp: years of experience\n",
    "    m: extra dollars per year of exp\n",
    "    b: salary with no experience (intercept)\n",
    "    '''\n",
    "    return m*y_exp + b"
   ]
  },
  {
   "cell_type": "code",
   "execution_count": 9,
   "metadata": {},
   "outputs": [
    {
     "data": {
      "text/plain": [
       "21000"
      ]
     },
     "execution_count": 9,
     "metadata": {},
     "output_type": "execute_result"
    }
   ],
   "source": [
    "income(3, 2000, 15000)"
   ]
  },
  {
   "cell_type": "markdown",
   "metadata": {},
   "source": [
    "Below, we've provided 100 hypothetical graduates with varying years of experience. Run this cell to save this as `years_exp`."
   ]
  },
  {
   "cell_type": "code",
   "execution_count": 7,
   "metadata": {
    "ExecuteTime": {
     "end_time": "2018-02-21T22:10:01.990137Z",
     "start_time": "2018-02-21T22:10:01.860780Z"
    }
   },
   "outputs": [],
   "source": [
    "years_exp = pd.read_pickle('data.pickle')['Years of Experience']"
   ]
  },
  {
   "cell_type": "markdown",
   "metadata": {},
   "source": [
    "How much do **you** think a GA grad makes if they have no prior experience? How much do **you** think an additional year of experience adds to the post-GA salary? Using the function you wrote above and the years of experience for 100 hypothetical graduates provided, generate 100 predictions based on your assumptions."
   ]
  },
  {
   "cell_type": "code",
   "execution_count": 37,
   "metadata": {},
   "outputs": [],
   "source": [
    "preds = {'yoe': years_exp, 'preds': []}\n",
    "for student in years_exp:\n",
    "    preds['preds'].append(income(student, 500, 15000))\n",
    "df_pred = pd.DataFrame(preds)"
   ]
  },
  {
   "cell_type": "markdown",
   "metadata": {},
   "source": [
    "#### Now, load in the rest of the pickled dataframe, and run the following cell to visualize the observed relationship between years of experience and post-GA income:\n",
    "\n",
    "(For more information on Pandas' `to_pickle` and `read_pickle` methods, refer to the documentation [here](https://pandas.pydata.org/pandas-docs/stable/generated/pandas.DataFrame.to_pickle.html). Mmmm pickles.)"
   ]
  },
  {
   "cell_type": "code",
   "execution_count": 25,
   "metadata": {
    "ExecuteTime": {
     "end_time": "2018-02-21T22:10:01.991640Z",
     "start_time": "2018-02-21T22:10:01.853Z"
    }
   },
   "outputs": [
    {
     "data": {
      "image/png": "[encoded data removed]",
      "text/plain": [
       "<matplotlib.figure.Figure at 0x7f640d650a58>"
      ]
     },
     "metadata": {},
     "output_type": "display_data"
    }
   ],
   "source": [
    "income_data = pd.read_pickle('data.pickle')\n",
    "\n",
    "plt.scatter(income_data['Years of Experience'], income_data['Post-GA Income'])\n",
    "plt.title('Years of Previous Experience vs Post-GA Income')\n",
    "plt.xlabel('Years of Previous Experience')\n",
    "plt.ylabel('Post-GA Income');"
   ]
  },
  {
   "cell_type": "markdown",
   "metadata": {
    "ExecuteTime": {
     "end_time": "2018-02-21T18:30:32.510365Z",
     "start_time": "2018-02-21T18:30:32.503345Z"
    }
   },
   "source": [
    "#### Duplicate the scatter plot above, but with *your* predictions plotted as a red line.\n",
    "\n",
    "How close were you?"
   ]
  },
  {
   "cell_type": "code",
   "execution_count": 38,
   "metadata": {
    "ExecuteTime": {
     "end_time": "2018-02-21T22:02:41.329344Z",
     "start_time": "2018-02-21T22:02:41.184823Z"
    }
   },
   "outputs": [
    {
     "data": {
      "image/png": "[encoded data removed]",
      "text/plain": [
       "<matplotlib.figure.Figure at 0x7f640539af28>"
      ]
     },
     "metadata": {},
     "output_type": "display_data"
    }
   ],
   "source": [
    "income_data = pd.read_pickle('data.pickle')\n",
    "\n",
    "plt.scatter(income_data['Years of Experience'], income_data['Post-GA Income'])\n",
    "# make America GREAT again\n",
    "plt.plot(df_pred['yoe'], df_pred['preds'], color='red', linestyle='solid')\n",
    "plt.title('Years of Previous Experience vs Post-GA Income')\n",
    "plt.xlabel('Years of Previous Experience')\n",
    "plt.ylabel('Post-GA Income');\n",
    "plt.show()"
   ]
  },
  {
   "cell_type": "markdown",
   "metadata": {},
   "source": [
    "#### In the context of linear regression, what does the following function compute? Rename the function appropriately."
   ]
  },
  {
   "cell_type": "code",
   "execution_count": 39,
   "metadata": {
    "ExecuteTime": {
     "end_time": "2018-02-21T22:10:01.992643Z",
     "start_time": "2018-02-21T22:10:01.861Z"
    }
   },
   "outputs": [],
   "source": [
    "def mse(y_true, y_pred):\n",
    "    '''\n",
    "    calcs mean squared error\n",
    "    '''\n",
    "    n = len(y_true)\n",
    "    se = [(y_true[i] - y_pred[i])**2 for i in range(n)]\n",
    "    return(np.sum(se)/n)"
   ]
  },
  {
   "cell_type": "markdown",
   "metadata": {},
   "source": [
    "#### The function above is just one of many functions we use for a certain purpose. In machine learning, what do we call these type of functions?"
   ]
  },
  {
   "cell_type": "markdown",
   "metadata": {
    "ExecuteTime": {
     "end_time": "2018-02-21T22:02:53.166185Z",
     "start_time": "2018-02-21T22:02:53.162173Z"
    },
    "collapsed": true
   },
   "source": [
    "Loss functions"
   ]
  },
  {
   "cell_type": "markdown",
   "metadata": {},
   "source": [
    "## Gradient Descent\n",
    "\n",
    "We use gradient descent to find the set of parameter values that minimizes some function. Let's say we want to minimize this function:\n",
    "\n",
    "<img src='img1.png'>"
   ]
  },
  {
   "cell_type": "markdown",
   "metadata": {},
   "source": [
    "The parameters of a simple linear regression model are $m$ and $b$. In `statsmodels` and `scikit-learn`, when we run `.fit()`, we are estimating the value of these parameters by identifying a best guess. (Equivalently, we find the **best fit line** by finding the values of $m$ and $b$ that minimize the sum of squared errors.)\n",
    "\n",
    "In *ordinary least squares regression*, we can directly find the values of $m$ and $b$ that minimize SSE by solving $\\hat{\\beta} = (X^TX)^{-1}X^Ty$. \n",
    "\n",
    "However, there are a lot of machine learning techniques that can't be optimized in such a simple way. They rely on **gradient descent** as one method of estimating values of the parameters.\n",
    "\n",
    "Let's walk through an example together of using gradient descent to estimate parameters of a linear regression model."
   ]
  },
  {
   "cell_type": "markdown",
   "metadata": {},
   "source": [
    "**Question:** Trying to use as little mathematical terminology as possible, how would you describe a loss function?"
   ]
  },
  {
   "cell_type": "markdown",
   "metadata": {},
   "source": [
    "**Answer:** MSE (see above) - 'how far off you are' h/t Evan h/t Eddie (comic relief)"
   ]
  },
  {
   "cell_type": "markdown",
   "metadata": {},
   "source": [
    "**Question:** We plot our loss function for all possible values of our parameters $m$ and $b$. Our goal is to find the values of $m$ and $b$ that {blank} our loss function. "
   ]
  },
  {
   "cell_type": "markdown",
   "metadata": {},
   "source": [
    "**What goes in the blank above?** Minimize"
   ]
  },
  {
   "cell_type": "markdown",
   "metadata": {},
   "source": [
    "Given the loss function above, we take the partial derivative of this function with respect to $m$ and $b$. We've done the math for you. Here is the result:\n",
    "<img src='img2.png'>"
   ]
  },
  {
   "cell_type": "markdown",
   "metadata": {},
   "source": [
    "#### Write two functions:\n",
    "- The first function, `partial_derivative_m`, should take as inputs a list of $x$ values, a list of $y$ values, a $b$ value, and an $m$ value. *It should return how much the loss function changes for a one-unit change in $m$.*\n",
    "- The second function, `partial_derivative_b`, should take as inputs a list of $x$ values, a list of $y$ values, a $b$ value, and an $m$ value. *It should return how much the loss function changes for a one-unit change in $b$.*"
   ]
  },
  {
   "cell_type": "code",
   "execution_count": 42,
   "metadata": {
    "ExecuteTime": {
     "end_time": "2018-02-21T21:45:48.917407Z",
     "start_time": "2018-02-21T21:45:48.904371Z"
    }
   },
   "outputs": [],
   "source": [
    "def partial_derivative_m(x, y, b, m):\n",
    "    '''\n",
    "    x: list\n",
    "    y: list\n",
    "    b: y-intercept, value\n",
    "    m: slope, value\n",
    "    returns: how much loss function changes for one-unit change in m\n",
    "    '''\n",
    "    totes = 0.0\n",
    "    for i, j in zip(x,y):\n",
    "        totes += -i*(j-(m*i+b))\n",
    "    return (2/len(x)*totes)"
   ]
  },
  {
   "cell_type": "code",
   "execution_count": 96,
   "metadata": {},
   "outputs": [
    {
     "data": {
      "text/plain": [
       "-578982.7071285709"
      ]
     },
     "execution_count": 96,
     "metadata": {},
     "output_type": "execute_result"
    }
   ],
   "source": [
    "partial_derivative_m(df_pred['yoe'], df_pred['preds'], 15000, -7363)"
   ]
  },
  {
   "cell_type": "code",
   "execution_count": 50,
   "metadata": {},
   "outputs": [],
   "source": [
    "def partial_derivative_b(x, y, b, m):\n",
    "    '''\n",
    "    x: list\n",
    "    y: list\n",
    "    b: y-intercept, value\n",
    "    m: slope, value\n",
    "    returns: how much loss function changes for one-unit change in b\n",
    "    '''\n",
    "    totes = 0.0\n",
    "    for i, j in zip(x,y):\n",
    "        totes += -1*(j-(m*i+b))\n",
    "    return (2/len(x)*totes)"
   ]
  },
  {
   "cell_type": "code",
   "execution_count": 57,
   "metadata": {},
   "outputs": [
    {
     "data": {
      "text/plain": [
       "2000.0"
      ]
     },
     "execution_count": 57,
     "metadata": {},
     "output_type": "execute_result"
    }
   ],
   "source": [
    "# note that our 'target' intercept is $15,000 with a slope of $500/yr\n",
    "partial_derivative_b(df_pred['yoe'], df_pred['preds'], 16000, 500)"
   ]
  },
  {
   "cell_type": "markdown",
   "metadata": {},
   "source": [
    "#### In your own words, what do these partial derivative functions represent, and how are they relevant in gradient descent?"
   ]
  },
  {
   "cell_type": "markdown",
   "metadata": {
    "ExecuteTime": {
     "end_time": "2018-02-21T19:14:08.680422Z",
     "start_time": "2018-02-21T19:14:08.672375Z"
    }
   },
   "source": [
    "**Answer:** The two functions represent the loss incurred from incorrect slopes (m) and intercepts (b) compared to our input (target) x and y lists. They are relevant because we are seeking to minimize these values to zero to fit the 'model'."
   ]
  },
  {
   "cell_type": "code",
   "execution_count": null,
   "metadata": {},
   "outputs": [],
   "source": []
  },
  {
   "cell_type": "markdown",
   "metadata": {},
   "source": [
    "#### Now that you've answered that question, it's time to actually implement gradient descent! \n",
    "\n",
    "You might find this formula helpful:\n",
    "$$\n",
    "\\beta_1 := \\beta_1 - \\alpha \\frac{\\partial L}{\\partial \\beta_1}\n",
    "$$\n",
    "\n",
    "First, write a function called `take_step` that will improve our model fit by taking a single step. It will take five inputs:\n",
    "\n",
    "- A list of x values\n",
    "- A list of y values\n",
    "- A current b value\n",
    "- A current m value\n",
    "- A learning rate\n",
    "\n",
    "It will return two outputs:\n",
    "- A new b value\n",
    "- A new m value\n",
    "\n",
    "*(Hint: Your function should make use of the two functions you just wrote!)*"
   ]
  },
  {
   "cell_type": "code",
   "execution_count": 62,
   "metadata": {
    "ExecuteTime": {
     "end_time": "2018-02-21T21:45:49.828897Z",
     "start_time": "2018-02-21T21:45:49.819872Z"
    }
   },
   "outputs": [],
   "source": [
    "def take_step(x, y, b, m, a=0.0001):\n",
    "    '''\n",
    "    x: list\n",
    "    y: list\n",
    "    b: value, current intercept\n",
    "    m: value, current slope\n",
    "    a: alpha value, rate o' larnin' (default 0.0001)\n",
    "    '''\n",
    "    new_b = b - a * partial_derivative_b(x, y, b, m)\n",
    "    new_m = m - a * partial_derivative_m(x, y, b, m)\n",
    "    return new_b, new_m"
   ]
  },
  {
   "cell_type": "code",
   "execution_count": 63,
   "metadata": {},
   "outputs": [
    {
     "data": {
      "text/plain": [
       "(43000.0, -40046.14875648271)"
      ]
     },
     "execution_count": 63,
     "metadata": {},
     "output_type": "execute_result"
    }
   ],
   "source": [
    "take_step(df_pred['yoe'], df_pred['preds'], 50000, 500)"
   ]
  },
  {
   "cell_type": "markdown",
   "metadata": {},
   "source": [
    "#### Now, define a function that will keep on taking steps until the function is minimized.\n",
    "\n",
    "You will need to decide on a *stopping criterion*. This could be a finite number of iterations you want your gradient descent to run, or it could be some special condition which causes your loop to end. Choose a stopping criterion, and defend your choice. (You may want to try out a few different stopping criteria.)"
   ]
  },
  {
   "cell_type": "code",
   "execution_count": 109,
   "metadata": {
    "ExecuteTime": {
     "end_time": "2018-02-21T21:45:50.287042Z",
     "start_time": "2018-02-21T21:45:50.255455Z"
    }
   },
   "outputs": [],
   "source": [
    " def gd_it(x, y, b, m, a=0.0001, n=10):\n",
    "        '''\n",
    "        x: list\n",
    "        y: list\n",
    "        b: value, current intercept\n",
    "        m: value, current slope\n",
    "        a: alpha value, rate o' larnin' (default 0.0001)\n",
    "        n: number of iterations we want (default 10)\n",
    "        '''\n",
    "        # this is our first step (1)\n",
    "        b_step, m_step = take_step(x, y, b, m, a)\n",
    "        \n",
    "        # these are our next steps (2-10)\n",
    "        for i in range(n-1):\n",
    "            b_step, m_step = take_step(x, y, b_step, m_step, a)\n",
    "#             print(take_step(x, y, b_step, m_step, a)) \n",
    "        print(take_step(x, y, b_step, m_step, a)) "
   ]
  },
  {
   "cell_type": "code",
   "execution_count": 112,
   "metadata": {},
   "outputs": [
    {
     "name": "stdout",
     "output_type": "stream",
     "text": [
      "(15211.755320885079, 466.60658026850166)\n"
     ]
    }
   ],
   "source": [
    "gd_it(df_pred['yoe'], df_pred['preds'], 15500, 400, a=0.0001, n=50000)"
   ]
  },
  {
   "cell_type": "markdown",
   "metadata": {
    "ExecuteTime": {
     "end_time": "2018-02-21T20:07:34.124731Z",
     "start_time": "2018-02-21T20:07:34.118004Z"
    }
   },
   "source": [
    "#### Run your gradient descent function to move from your first guess to what the true values of _m_ and _b_ are, and plot a line showing the best model that gradient descent found:"
   ]
  },
  {
   "cell_type": "code",
   "execution_count": null,
   "metadata": {
    "ExecuteTime": {
     "end_time": "2018-02-21T21:46:42.421730Z",
     "start_time": "2018-02-21T21:46:16.271976Z"
    },
    "collapsed": true
   },
   "outputs": [],
   "source": []
  },
  {
   "cell_type": "markdown",
   "metadata": {},
   "source": [
    "#### Import `statsmodels` and fit an OLS model with your data. Compare your results to what you found above."
   ]
  },
  {
   "cell_type": "code",
   "execution_count": null,
   "metadata": {
    "collapsed": true
   },
   "outputs": [],
   "source": []
  },
  {
   "cell_type": "markdown",
   "metadata": {},
   "source": [
    "## Visualization Prompt:\n",
    "\n",
    "Modify the function you've just written so that you save all the intermediate *b* and *m* values. Plot the same scatter plot, but with a line showing the models gradient descent found before convergence. Use a small `alpha` to make your lines semi-transparent, and experiment so your audience can see the route your gradient descent took before it settled on the best model.\n",
    "\n",
    "To get you started, here is some Python code you might use as a template:\n",
    "\n",
    "```python\n",
    "plt.scatter(...                 # Plot the data \n",
    "plt.title(...                   # Add a title\n",
    "plt.xlabel(...                  # Add axis\n",
    "plt.ylabel(...                  #     labels\n",
    "plt.plot(...                    # Plot your first guess\n",
    "for i in range(...)):           # Iterate through for each iteration, optionally using `step` to skip some\n",
    "    preds = make_preds(...      # Make prediction using your current b and m values\n",
    "    plt.plot(..., alpha=...     # Plot the intermediate model with a transparent line\n",
    "plt.plot(...                    # Plot the final best model\n",
    "```"
   ]
  },
  {
   "cell_type": "code",
   "execution_count": null,
   "metadata": {
    "collapsed": true
   },
   "outputs": [],
   "source": []
  },
  {
   "cell_type": "markdown",
   "metadata": {
    "ExecuteTime": {
     "end_time": "2018-02-21T19:59:11.137742Z",
     "start_time": "2018-02-21T19:59:11.127214Z"
    }
   },
   "source": [
    "## Bonus Questions:\n",
    "\n",
    "- Build on your function to implement stochastic gradient descent.\n",
    "- Wrap the above functions into a class that can implement both types of gradient descent.\n",
    "- Use the in-class slides to build out functions that can implement gradient descent for **logistic regression**."
   ]
  },
  {
   "cell_type": "code",
   "execution_count": null,
   "metadata": {
    "collapsed": true
   },
   "outputs": [],
   "source": []
  }
 ],
 "metadata": {
  "kernelspec": {
   "display_name": "Python 3",
   "language": "python",
   "name": "python3"
  },
  "language_info": {
   "codemirror_mode": {
    "name": "ipython",
    "version": 3
   },
   "file_extension": ".py",
   "mimetype": "text/x-python",
   "name": "python",
   "nbconvert_exporter": "python",
   "pygments_lexer": "ipython3",
   "version": "3.6.3"
  },
  "toc": {
   "nav_menu": {},
   "number_sections": true,
   "sideBar": true,
   "skip_h1_title": false,
   "title_cell": "Table of Contents",
   "title_sidebar": "Contents",
   "toc_cell": false,
   "toc_position": {},
   "toc_section_display": true,
   "toc_window_display": false
  },
  "varInspector": {
   "cols": {
    "lenName": 16,
    "lenType": 16,
    "lenVar": 40
   },
   "kernels_config": {
    "python": {
     "delete_cmd_postfix": "",
     "delete_cmd_prefix": "del ",
     "library": "var_list.py",
     "varRefreshCmd": "print(var_dic_list())"
    },
    "r": {
     "delete_cmd_postfix": ") ",
     "delete_cmd_prefix": "rm(",
     "library": "var_list.r",
     "varRefreshCmd": "cat(var_dic_list()) "
    }
   },
   "types_to_exclude": [
    "module",
    "function",
    "builtin_function_or_method",
    "instance",
    "_Feature"
   ],
   "window_display": false
  }
 },
 "nbformat": 4,
 "nbformat_minor": 2
}
