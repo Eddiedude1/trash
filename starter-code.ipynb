{
 "cells": [
  {
   "cell_type": "markdown",
   "metadata": {},
   "source": [
    "# ![](https://ga-dash.s3.amazonaws.com/production/assets/logo-9f88ae6c9c3871690e33280fcf557f33.png) Lab 8.01 | Topic Modeling & Network Analysis"
   ]
  },
  {
   "cell_type": "code",
   "execution_count": null,
   "metadata": {},
   "outputs": [],
   "source": [
    "!pip install bokeh"
   ]
  },
  {
   "cell_type": "markdown",
   "metadata": {},
   "source": [
    "**Problem 1:** Define supervised learning and unsupervised learning."
   ]
  },
  {
   "cell_type": "markdown",
   "metadata": {},
   "source": [
    "**Answer:** no target with unsupervised learning"
   ]
  },
  {
   "cell_type": "markdown",
   "metadata": {},
   "source": [
    "**Problem 2:** Give an example of a supervised learning problem."
   ]
  },
  {
   "cell_type": "markdown",
   "metadata": {},
   "source": [
    "**Answer:** try to figure out score to a knicks game"
   ]
  },
  {
   "cell_type": "markdown",
   "metadata": {},
   "source": [
    "**Problem 3:** Give an example of an unsupervised learning problem."
   ]
  },
  {
   "cell_type": "markdown",
   "metadata": {},
   "source": [
    "**Answer:** topics within a google search throughout the day"
   ]
  },
  {
   "cell_type": "markdown",
   "metadata": {},
   "source": [
    "**Problem 4:** Imagine you're in a non-technical interview with a non-technical recruiter. How would you define supervised learning and unsupervised learning?"
   ]
  },
  {
   "cell_type": "markdown",
   "metadata": {},
   "source": [
    "**Answer:** Say we are classifying triangles, squares, and diamonds. Unsupervised learning is grouping these shapes without ever seeing them before. Supervised learning is where we know what a triangle, square and diamond is and then we can classify the shapes, based on number of verticies, and angle size."
   ]
  },
  {
   "cell_type": "code",
   "execution_count": 34,
   "metadata": {},
   "outputs": [],
   "source": [
    "import pandas as pd\n",
    "import numpy as np\n",
    "import sklearn.datasets\n",
    "from nltk.tokenize import RegexpTokenizer\n",
    "from nltk.stem import PorterStemmer\n",
    "from nltk.corpus import stopwords\n",
    "import re\n",
    "from gensim import models, corpora"
   ]
  },
  {
   "cell_type": "code",
   "execution_count": 2,
   "metadata": {},
   "outputs": [],
   "source": [
    "newsgroups_train = sklearn.datasets.fetch_20newsgroups(subset='train')"
   ]
  },
  {
   "cell_type": "code",
   "execution_count": 3,
   "metadata": {},
   "outputs": [],
   "source": [
    "train = pd.DataFrame(newsgroups_train.data, columns=[\"text\"])"
   ]
  },
  {
   "cell_type": "code",
   "execution_count": 4,
   "metadata": {},
   "outputs": [
    {
     "data": {
      "text/plain": [
       "\"From: lerxst@wam.umd.edu (where's my thing)\\nSubject: WHAT car is this!?\\nNntp-Posting-Host: rac3.wam.umd.edu\\nOrganization: University of Maryland, College Park\\nLines: 15\\n\\n I was wondering if anyone out there could enlighten me on this car I saw\\nthe other day. It was a 2-door sports car, looked to be from the late 60s/\\nearly 70s. It was called a Bricklin. The doors were really small. In addition,\\nthe front bumper was separate from the rest of the body. This is \\nall I know. If anyone can tellme a model name, engine specs, years\\nof production, where this car is made, history, or whatever info you\\nhave on this funky looking car, please e-mail.\\n\\nThanks,\\n- IL\\n   ---- brought to you by your neighborhood Lerxst ----\\n\\n\\n\\n\\n\""
      ]
     },
     "execution_count": 4,
     "metadata": {},
     "output_type": "execute_result"
    }
   ],
   "source": [
    "train.loc[0,\"text\"]"
   ]
  },
  {
   "cell_type": "code",
   "execution_count": 13,
   "metadata": {
    "collapsed": true
   },
   "outputs": [
    {
     "data": {
      "text/plain": [
       "['lerxst',\n",
       " 'wam',\n",
       " 'umd',\n",
       " 'edu',\n",
       " 'thing',\n",
       " 'subject',\n",
       " 'car',\n",
       " 'nntp',\n",
       " 'post',\n",
       " 'host',\n",
       " 'rac3',\n",
       " 'wam',\n",
       " 'umd',\n",
       " 'edu',\n",
       " 'organ',\n",
       " 'univers',\n",
       " 'maryland',\n",
       " 'colleg',\n",
       " 'park',\n",
       " 'line',\n",
       " '15',\n",
       " 'wonder',\n",
       " 'anyon',\n",
       " 'could',\n",
       " 'enlighten',\n",
       " 'car',\n",
       " 'saw',\n",
       " 'day',\n",
       " '2',\n",
       " 'door',\n",
       " 'sport',\n",
       " 'car',\n",
       " 'look',\n",
       " 'late',\n",
       " '60',\n",
       " 'earli',\n",
       " '70',\n",
       " 'call',\n",
       " 'bricklin',\n",
       " 'door',\n",
       " 'realli',\n",
       " 'small',\n",
       " 'addit',\n",
       " 'front',\n",
       " 'bumper',\n",
       " 'separ',\n",
       " 'rest',\n",
       " 'bodi',\n",
       " 'know',\n",
       " 'anyon',\n",
       " 'tellm',\n",
       " 'model',\n",
       " 'name',\n",
       " 'engin',\n",
       " 'spec',\n",
       " 'year',\n",
       " 'product',\n",
       " 'car',\n",
       " 'made',\n",
       " 'histori',\n",
       " 'whatev',\n",
       " 'info',\n",
       " 'funki',\n",
       " 'look',\n",
       " 'car',\n",
       " 'pleas',\n",
       " 'e',\n",
       " 'mail',\n",
       " 'thank',\n",
       " 'il',\n",
       " 'brought',\n",
       " 'neighborhood',\n",
       " 'lerxst']"
      ]
     },
     "execution_count": 13,
     "metadata": {},
     "output_type": "execute_result"
    }
   ],
   "source": [
    "text_process(train.loc[0,\"text\"])"
   ]
  },
  {
   "cell_type": "markdown",
   "metadata": {},
   "source": [
    "**Problem 5:** Build an LDA model on the training data with 20 topics. Summarize any findings. Be sure to preprocess your data accordingly!\n",
    "- Note that pre-processing your data will likely take ten or so minutes; if you use a loop to pre-process your data, you should consider adding some `print` statement that will let you know every 1,000 entries that you are indeed making progress.\n",
    "- Fitting the LDA model won't take as long, but will still take longer given the larger size of the data."
   ]
  },
  {
   "cell_type": "code",
   "execution_count": null,
   "metadata": {
    "collapsed": true
   },
   "outputs": [],
   "source": [
    "np.random.seed(42)"
   ]
  },
  {
   "cell_type": "code",
   "execution_count": 6,
   "metadata": {},
   "outputs": [],
   "source": [
    "def text_process(text):\n",
    "    '''\n",
    "    Takes in a string of text, then performs the following:\n",
    "        1. Tokenizes and removes punctuation\n",
    "        2. Removes stopwords\n",
    "        3. Stems\n",
    "        4. Returns a list of the cleaned text\n",
    "    '''\n",
    "    if pd.isnull(text):\n",
    "        return []\n",
    "    # tokenizing and removing punctuation\n",
    "    tokenizer = RegexpTokenizer(r'\\w+')\n",
    "    text_processed=tokenizer.tokenize(text)\n",
    "    \n",
    "    # removing any stopwords\n",
    "    text_processed = [word.lower() for word in text_processed if word.lower() not in stopwords.words('english')]\n",
    "    \n",
    "    # steming\n",
    "    porter_stemmer = PorterStemmer()\n",
    "    \n",
    "    text_processed = [porter_stemmer.stem(word) for word in text_processed]\n",
    "    \n",
    "    try:\n",
    "        text_processed.remove('b')\n",
    "    except: \n",
    "        pass\n",
    "\n",
    "    return text_processed ## <-- one small tweak"
   ]
  },
  {
   "cell_type": "code",
   "execution_count": 53,
   "metadata": {},
   "outputs": [],
   "source": [
    "texts = []\n",
    "for i in range(500):\n",
    "    texts.append(text_process(train.iloc[i,:].values[0]))"
   ]
  },
  {
   "cell_type": "code",
   "execution_count": 54,
   "metadata": {},
   "outputs": [],
   "source": [
    "dictionary = corpora.Dictionary(texts)\n",
    "corpus = [dictionary.doc2bow(text) for text in texts]"
   ]
  },
  {
   "cell_type": "code",
   "execution_count": 55,
   "metadata": {},
   "outputs": [],
   "source": [
    "ldamodel = models.ldamodel.LdaModel(corpus, \n",
    "                                    id2word = dictionary, \n",
    "                                    num_topics = 20, \n",
    "                                    passes = 5, \n",
    "                                    minimum_probability=0)"
   ]
  },
  {
   "cell_type": "code",
   "execution_count": 52,
   "metadata": {
    "collapsed": true
   },
   "outputs": [
    {
     "data": {
      "text/plain": [
       "array([[ 0.00342079,  0.00339651,  0.0034052 , ...,  0.00016941,\n",
       "         0.00016941,  0.00016941],\n",
       "       [ 0.00130739,  0.00165799,  0.00125329, ...,  0.00125329,\n",
       "         0.00125329,  0.00125329],\n",
       "       [ 0.00135328,  0.00135685,  0.00135275, ...,  0.00135275,\n",
       "         0.00135275,  0.00135275],\n",
       "       ..., \n",
       "       [ 0.00290747,  0.02225376,  0.00014413, ...,  0.00014413,\n",
       "         0.00014413,  0.00014413],\n",
       "       [ 0.00160638,  0.00218157,  0.00175404, ...,  0.00125447,\n",
       "         0.00125447,  0.00125447],\n",
       "       [ 0.001653  ,  0.00315747,  0.00152491, ...,  0.00123006,\n",
       "         0.00126849,  0.00122341]], dtype=float32)"
      ]
     },
     "execution_count": 52,
     "metadata": {},
     "output_type": "execute_result"
    }
   ],
   "source": [
    "ldamodel.get_topics()"
   ]
  },
  {
   "cell_type": "markdown",
   "metadata": {},
   "source": [
    "**Problem 6:** Let's walk through using a cool visualization library, called [Bokeh](https://bokeh.pydata.org). "
   ]
  },
  {
   "cell_type": "markdown",
   "metadata": {},
   "source": [
    "**6.1:** Run the following cell. This will convert our LDA results into an array of size `number_of_documents` $\\times$ `number_of_topics`. Remember that each document is a combination of topics; this code shows us the distribution of topics for a given document."
   ]
  },
  {
   "cell_type": "code",
   "execution_count": 56,
   "metadata": {},
   "outputs": [],
   "source": [
    "doc_x_topic = np.array([[y for (x,y) in ldamodel[corpus[i]]] for i in range(len(corpus))])"
   ]
  },
  {
   "cell_type": "markdown",
   "metadata": {},
   "source": [
    "**6.2:** Run the following cell. \n",
    "\n",
    "Remember that very topic is defined by all of the words in our corpus. For example, the topic magic, might be defined by the words {spell, wand, wizard}. The topic magic, then, is defined in three dimensions.\n",
    "\n",
    "If we have a corpus of more than three words (which is going to basically be 100% of the time), then it will be very difficult to visualize our topics.\n",
    "- In using `pyLDAvis.gensim.prepare()`, the function \"projected\" our data from high dimensions into only two dimensions using something called **principal component analysis**. We'll learn about PCA later this week!\n",
    "- There's another commonly used method of projecting data into lower dimensions, called [**t-Stochastic Neighbor Embedding**](https://lvdmaaten.github.io/tsne/). We won't go into the details here, but you're welcome to learn more about it if you'd like. We're just using it so that it makes visualizations easier.\n",
    "\n",
    "Run the following cell. It'll implement t-SNE for us!"
   ]
  },
  {
   "cell_type": "code",
   "execution_count": 57,
   "metadata": {},
   "outputs": [],
   "source": [
    "from sklearn.manifold import TSNE\n",
    "tsne = TSNE(random_state=42, perplexity=30)        # Instantiates Model\n",
    "tsne_embedding = tsne.fit_transform(doc_x_topic)   # Fits Model/Transforms the Data\n",
    "tsne_embedding = pd.DataFrame(tsne_embedding, columns=['x','y']) # Creates Pandas Dataframe of TSNE results.\n",
    "tsne_embedding['hue'] = doc_x_topic.argmax(axis=1) # Creates \"hue\" based on likeliest topic."
   ]
  },
  {
   "cell_type": "markdown",
   "metadata": {},
   "source": [
    "In the absence of any metrics telling us whether we have a \"good\" or \"bad\" model, this will help us to better visualize the performance of our model!"
   ]
  },
  {
   "cell_type": "markdown",
   "metadata": {},
   "source": [
    "**6.3:** Run the following two cells."
   ]
  },
  {
   "cell_type": "code",
   "execution_count": 58,
   "metadata": {
    "scrolled": true
   },
   "outputs": [
    {
     "data": {
      "text/html": [
       "\n",
       "    <div class=\"bk-root\">\n",
       "        <a href=\"https://bokeh.pydata.org\" target=\"_blank\" class=\"bk-logo bk-logo-small bk-logo-notebook\"></a>\n",
       "        <span id=\"a9f54a01-64b8-4c08-85fc-107ca4adea6e\">Loading BokehJS ...</span>\n",
       "    </div>"
      ]
     },
     "metadata": {},
     "output_type": "display_data"
    },
    {
     "data": {
      "application/javascript": [
       "\n",
       "(function(root) {\n",
       "  function now() {\n",
       "    return new Date();\n",
       "  }\n",
       "\n",
       "  var force = true;\n",
       "\n",
       "  if (typeof (root._bokeh_onload_callbacks) === \"undefined\" || force === true) {\n",
       "    root._bokeh_onload_callbacks = [];\n",
       "    root._bokeh_is_loading = undefined;\n",
       "  }\n",
       "\n",
       "  var JS_MIME_TYPE = 'application/javascript';\n",
       "  var HTML_MIME_TYPE = 'text/html';\n",
       "  var EXEC_MIME_TYPE = 'application/vnd.bokehjs_exec.v0+json';\n",
       "  var CLASS_NAME = 'output_bokeh rendered_html';\n",
       "\n",
       "  /**\n",
       "   * Render data to the DOM node\n",
       "   */\n",
       "  function render(props, node) {\n",
       "    var script = document.createElement(\"script\");\n",
       "    node.appendChild(script);\n",
       "  }\n",
       "\n",
       "  /**\n",
       "   * Handle when an output is cleared or removed\n",
       "   */\n",
       "  function handleClearOutput(event, handle) {\n",
       "    var cell = handle.cell;\n",
       "\n",
       "    var id = cell.output_area._bokeh_element_id;\n",
       "    var server_id = cell.output_area._bokeh_server_id;\n",
       "    // Clean up Bokeh references\n",
       "    if (id !== undefined) {\n",
       "      Bokeh.index[id].model.document.clear();\n",
       "      delete Bokeh.index[id];\n",
       "    }\n",
       "\n",
       "    if (server_id !== undefined) {\n",
       "      // Clean up Bokeh references\n",
       "      var cmd = \"from bokeh.io.state import curstate; print(curstate().uuid_to_server['\" + server_id + \"'].get_sessions()[0].document.roots[0]._id)\";\n",
       "      cell.notebook.kernel.execute(cmd, {\n",
       "        iopub: {\n",
       "          output: function(msg) {\n",
       "            var element_id = msg.content.text.trim();\n",
       "            Bokeh.index[element_id].model.document.clear();\n",
       "            delete Bokeh.index[element_id];\n",
       "          }\n",
       "        }\n",
       "      });\n",
       "      // Destroy server and session\n",
       "      var cmd = \"import bokeh.io.notebook as ion; ion.destroy_server('\" + server_id + \"')\";\n",
       "      cell.notebook.kernel.execute(cmd);\n",
       "    }\n",
       "  }\n",
       "\n",
       "  /**\n",
       "   * Handle when a new output is added\n",
       "   */\n",
       "  function handleAddOutput(event, handle) {\n",
       "    var output_area = handle.output_area;\n",
       "    var output = handle.output;\n",
       "\n",
       "    // limit handleAddOutput to display_data with EXEC_MIME_TYPE content only\n",
       "    if ((output.output_type != \"display_data\") || (!output.data.hasOwnProperty(EXEC_MIME_TYPE))) {\n",
       "      return\n",
       "    }\n",
       "\n",
       "    var toinsert = output_area.element.find(\".\" + CLASS_NAME.split(' ')[0]);\n",
       "\n",
       "    if (output.metadata[EXEC_MIME_TYPE][\"id\"] !== undefined) {\n",
       "      toinsert[0].firstChild.textContent = output.data[JS_MIME_TYPE];\n",
       "      // store reference to embed id on output_area\n",
       "      output_area._bokeh_element_id = output.metadata[EXEC_MIME_TYPE][\"id\"];\n",
       "    }\n",
       "    if (output.metadata[EXEC_MIME_TYPE][\"server_id\"] !== undefined) {\n",
       "      var bk_div = document.createElement(\"div\");\n",
       "      bk_div.innerHTML = output.data[HTML_MIME_TYPE];\n",
       "      var script_attrs = bk_div.children[0].attributes;\n",
       "      for (var i = 0; i < script_attrs.length; i++) {\n",
       "        toinsert[0].firstChild.setAttribute(script_attrs[i].name, script_attrs[i].value);\n",
       "      }\n",
       "      // store reference to server id on output_area\n",
       "      output_area._bokeh_server_id = output.metadata[EXEC_MIME_TYPE][\"server_id\"];\n",
       "    }\n",
       "  }\n",
       "\n",
       "  function register_renderer(events, OutputArea) {\n",
       "\n",
       "    function append_mime(data, metadata, element) {\n",
       "      // create a DOM node to render to\n",
       "      var toinsert = this.create_output_subarea(\n",
       "        metadata,\n",
       "        CLASS_NAME,\n",
       "        EXEC_MIME_TYPE\n",
       "      );\n",
       "      this.keyboard_manager.register_events(toinsert);\n",
       "      // Render to node\n",
       "      var props = {data: data, metadata: metadata[EXEC_MIME_TYPE]};\n",
       "      render(props, toinsert[0]);\n",
       "      element.append(toinsert);\n",
       "      return toinsert\n",
       "    }\n",
       "\n",
       "    /* Handle when an output is cleared or removed */\n",
       "    events.on('clear_output.CodeCell', handleClearOutput);\n",
       "    events.on('delete.Cell', handleClearOutput);\n",
       "\n",
       "    /* Handle when a new output is added */\n",
       "    events.on('output_added.OutputArea', handleAddOutput);\n",
       "\n",
       "    /**\n",
       "     * Register the mime type and append_mime function with output_area\n",
       "     */\n",
       "    OutputArea.prototype.register_mime_type(EXEC_MIME_TYPE, append_mime, {\n",
       "      /* Is output safe? */\n",
       "      safe: true,\n",
       "      /* Index of renderer in `output_area.display_order` */\n",
       "      index: 0\n",
       "    });\n",
       "  }\n",
       "\n",
       "  // register the mime type if in Jupyter Notebook environment and previously unregistered\n",
       "  if (root.Jupyter !== undefined) {\n",
       "    var events = require('base/js/events');\n",
       "    var OutputArea = require('notebook/js/outputarea').OutputArea;\n",
       "\n",
       "    if (OutputArea.prototype.mime_types().indexOf(EXEC_MIME_TYPE) == -1) {\n",
       "      register_renderer(events, OutputArea);\n",
       "    }\n",
       "  }\n",
       "\n",
       "  \n",
       "  if (typeof (root._bokeh_timeout) === \"undefined\" || force === true) {\n",
       "    root._bokeh_timeout = Date.now() + 5000;\n",
       "    root._bokeh_failed_load = false;\n",
       "  }\n",
       "\n",
       "  var NB_LOAD_WARNING = {'data': {'text/html':\n",
       "     \"<div style='background-color: #fdd'>\\n\"+\n",
       "     \"<p>\\n\"+\n",
       "     \"BokehJS does not appear to have successfully loaded. If loading BokehJS from CDN, this \\n\"+\n",
       "     \"may be due to a slow or bad network connection. Possible fixes:\\n\"+\n",
       "     \"</p>\\n\"+\n",
       "     \"<ul>\\n\"+\n",
       "     \"<li>re-rerun `output_notebook()` to attempt to load from CDN again, or</li>\\n\"+\n",
       "     \"<li>use INLINE resources instead, as so:</li>\\n\"+\n",
       "     \"</ul>\\n\"+\n",
       "     \"<code>\\n\"+\n",
       "     \"from bokeh.resources import INLINE\\n\"+\n",
       "     \"output_notebook(resources=INLINE)\\n\"+\n",
       "     \"</code>\\n\"+\n",
       "     \"</div>\"}};\n",
       "\n",
       "  function display_loaded() {\n",
       "    var el = document.getElementById(\"a9f54a01-64b8-4c08-85fc-107ca4adea6e\");\n",
       "    if (el != null) {\n",
       "      el.textContent = \"BokehJS is loading...\";\n",
       "    }\n",
       "    if (root.Bokeh !== undefined) {\n",
       "      if (el != null) {\n",
       "        el.textContent = \"BokehJS \" + root.Bokeh.version + \" successfully loaded.\";\n",
       "      }\n",
       "    } else if (Date.now() < root._bokeh_timeout) {\n",
       "      setTimeout(display_loaded, 100)\n",
       "    }\n",
       "  }\n",
       "\n",
       "\n",
       "  function run_callbacks() {\n",
       "    try {\n",
       "      root._bokeh_onload_callbacks.forEach(function(callback) { callback() });\n",
       "    }\n",
       "    finally {\n",
       "      delete root._bokeh_onload_callbacks\n",
       "    }\n",
       "    console.info(\"Bokeh: all callbacks have finished\");\n",
       "  }\n",
       "\n",
       "  function load_libs(js_urls, callback) {\n",
       "    root._bokeh_onload_callbacks.push(callback);\n",
       "    if (root._bokeh_is_loading > 0) {\n",
       "      console.log(\"Bokeh: BokehJS is being loaded, scheduling callback at\", now());\n",
       "      return null;\n",
       "    }\n",
       "    if (js_urls == null || js_urls.length === 0) {\n",
       "      run_callbacks();\n",
       "      return null;\n",
       "    }\n",
       "    console.log(\"Bokeh: BokehJS not loaded, scheduling load and callback at\", now());\n",
       "    root._bokeh_is_loading = js_urls.length;\n",
       "    for (var i = 0; i < js_urls.length; i++) {\n",
       "      var url = js_urls[i];\n",
       "      var s = document.createElement('script');\n",
       "      s.src = url;\n",
       "      s.async = false;\n",
       "      s.onreadystatechange = s.onload = function() {\n",
       "        root._bokeh_is_loading--;\n",
       "        if (root._bokeh_is_loading === 0) {\n",
       "          console.log(\"Bokeh: all BokehJS libraries loaded\");\n",
       "          run_callbacks()\n",
       "        }\n",
       "      };\n",
       "      s.onerror = function() {\n",
       "        console.warn(\"failed to load library \" + url);\n",
       "      };\n",
       "      console.log(\"Bokeh: injecting script tag for BokehJS library: \", url);\n",
       "      document.getElementsByTagName(\"head\")[0].appendChild(s);\n",
       "    }\n",
       "  };var element = document.getElementById(\"a9f54a01-64b8-4c08-85fc-107ca4adea6e\");\n",
       "  if (element == null) {\n",
       "    console.log(\"Bokeh: ERROR: autoload.js configured with elementid 'a9f54a01-64b8-4c08-85fc-107ca4adea6e' but no matching script tag was found. \")\n",
       "    return false;\n",
       "  }\n",
       "\n",
       "  var js_urls = [\"https://cdn.pydata.org/bokeh/release/bokeh-0.12.13.min.js\", \"https://cdn.pydata.org/bokeh/release/bokeh-widgets-0.12.13.min.js\", \"https://cdn.pydata.org/bokeh/release/bokeh-tables-0.12.13.min.js\", \"https://cdn.pydata.org/bokeh/release/bokeh-gl-0.12.13.min.js\"];\n",
       "\n",
       "  var inline_js = [\n",
       "    function(Bokeh) {\n",
       "      Bokeh.set_log_level(\"info\");\n",
       "    },\n",
       "    \n",
       "    function(Bokeh) {\n",
       "      \n",
       "    },\n",
       "    function(Bokeh) {\n",
       "      console.log(\"Bokeh: injecting CSS: https://cdn.pydata.org/bokeh/release/bokeh-0.12.13.min.css\");\n",
       "      Bokeh.embed.inject_css(\"https://cdn.pydata.org/bokeh/release/bokeh-0.12.13.min.css\");\n",
       "      console.log(\"Bokeh: injecting CSS: https://cdn.pydata.org/bokeh/release/bokeh-widgets-0.12.13.min.css\");\n",
       "      Bokeh.embed.inject_css(\"https://cdn.pydata.org/bokeh/release/bokeh-widgets-0.12.13.min.css\");\n",
       "      console.log(\"Bokeh: injecting CSS: https://cdn.pydata.org/bokeh/release/bokeh-tables-0.12.13.min.css\");\n",
       "      Bokeh.embed.inject_css(\"https://cdn.pydata.org/bokeh/release/bokeh-tables-0.12.13.min.css\");\n",
       "    }\n",
       "  ];\n",
       "\n",
       "  function run_inline_js() {\n",
       "    \n",
       "    if ((root.Bokeh !== undefined) || (force === true)) {\n",
       "      for (var i = 0; i < inline_js.length; i++) {\n",
       "        inline_js[i].call(root, root.Bokeh);\n",
       "      }if (force === true) {\n",
       "        display_loaded();\n",
       "      }} else if (Date.now() < root._bokeh_timeout) {\n",
       "      setTimeout(run_inline_js, 100);\n",
       "    } else if (!root._bokeh_failed_load) {\n",
       "      console.log(\"Bokeh: BokehJS failed to load within specified timeout.\");\n",
       "      root._bokeh_failed_load = true;\n",
       "    } else if (force !== true) {\n",
       "      var cell = $(document.getElementById(\"a9f54a01-64b8-4c08-85fc-107ca4adea6e\")).parents('.cell').data().cell;\n",
       "      cell.output_area.append_execute_result(NB_LOAD_WARNING)\n",
       "    }\n",
       "\n",
       "  }\n",
       "\n",
       "  if (root._bokeh_is_loading === 0) {\n",
       "    console.log(\"Bokeh: BokehJS loaded, going straight to plotting\");\n",
       "    run_inline_js();\n",
       "  } else {\n",
       "    load_libs(js_urls, function() {\n",
       "      console.log(\"Bokeh: BokehJS plotting callback run at\", now());\n",
       "      run_inline_js();\n",
       "    });\n",
       "  }\n",
       "}(window));"
      ],
      "application/vnd.bokehjs_load.v0+json": "\n(function(root) {\n  function now() {\n    return new Date();\n  }\n\n  var force = true;\n\n  if (typeof (root._bokeh_onload_callbacks) === \"undefined\" || force === true) {\n    root._bokeh_onload_callbacks = [];\n    root._bokeh_is_loading = undefined;\n  }\n\n  \n\n  \n  if (typeof (root._bokeh_timeout) === \"undefined\" || force === true) {\n    root._bokeh_timeout = Date.now() + 5000;\n    root._bokeh_failed_load = false;\n  }\n\n  var NB_LOAD_WARNING = {'data': {'text/html':\n     \"<div style='background-color: #fdd'>\\n\"+\n     \"<p>\\n\"+\n     \"BokehJS does not appear to have successfully loaded. If loading BokehJS from CDN, this \\n\"+\n     \"may be due to a slow or bad network connection. Possible fixes:\\n\"+\n     \"</p>\\n\"+\n     \"<ul>\\n\"+\n     \"<li>re-rerun `output_notebook()` to attempt to load from CDN again, or</li>\\n\"+\n     \"<li>use INLINE resources instead, as so:</li>\\n\"+\n     \"</ul>\\n\"+\n     \"<code>\\n\"+\n     \"from bokeh.resources import INLINE\\n\"+\n     \"output_notebook(resources=INLINE)\\n\"+\n     \"</code>\\n\"+\n     \"</div>\"}};\n\n  function display_loaded() {\n    var el = document.getElementById(\"a9f54a01-64b8-4c08-85fc-107ca4adea6e\");\n    if (el != null) {\n      el.textContent = \"BokehJS is loading...\";\n    }\n    if (root.Bokeh !== undefined) {\n      if (el != null) {\n        el.textContent = \"BokehJS \" + root.Bokeh.version + \" successfully loaded.\";\n      }\n    } else if (Date.now() < root._bokeh_timeout) {\n      setTimeout(display_loaded, 100)\n    }\n  }\n\n\n  function run_callbacks() {\n    try {\n      root._bokeh_onload_callbacks.forEach(function(callback) { callback() });\n    }\n    finally {\n      delete root._bokeh_onload_callbacks\n    }\n    console.info(\"Bokeh: all callbacks have finished\");\n  }\n\n  function load_libs(js_urls, callback) {\n    root._bokeh_onload_callbacks.push(callback);\n    if (root._bokeh_is_loading > 0) {\n      console.log(\"Bokeh: BokehJS is being loaded, scheduling callback at\", now());\n      return null;\n    }\n    if (js_urls == null || js_urls.length === 0) {\n      run_callbacks();\n      return null;\n    }\n    console.log(\"Bokeh: BokehJS not loaded, scheduling load and callback at\", now());\n    root._bokeh_is_loading = js_urls.length;\n    for (var i = 0; i < js_urls.length; i++) {\n      var url = js_urls[i];\n      var s = document.createElement('script');\n      s.src = url;\n      s.async = false;\n      s.onreadystatechange = s.onload = function() {\n        root._bokeh_is_loading--;\n        if (root._bokeh_is_loading === 0) {\n          console.log(\"Bokeh: all BokehJS libraries loaded\");\n          run_callbacks()\n        }\n      };\n      s.onerror = function() {\n        console.warn(\"failed to load library \" + url);\n      };\n      console.log(\"Bokeh: injecting script tag for BokehJS library: \", url);\n      document.getElementsByTagName(\"head\")[0].appendChild(s);\n    }\n  };var element = document.getElementById(\"a9f54a01-64b8-4c08-85fc-107ca4adea6e\");\n  if (element == null) {\n    console.log(\"Bokeh: ERROR: autoload.js configured with elementid 'a9f54a01-64b8-4c08-85fc-107ca4adea6e' but no matching script tag was found. \")\n    return false;\n  }\n\n  var js_urls = [\"https://cdn.pydata.org/bokeh/release/bokeh-0.12.13.min.js\", \"https://cdn.pydata.org/bokeh/release/bokeh-widgets-0.12.13.min.js\", \"https://cdn.pydata.org/bokeh/release/bokeh-tables-0.12.13.min.js\", \"https://cdn.pydata.org/bokeh/release/bokeh-gl-0.12.13.min.js\"];\n\n  var inline_js = [\n    function(Bokeh) {\n      Bokeh.set_log_level(\"info\");\n    },\n    \n    function(Bokeh) {\n      \n    },\n    function(Bokeh) {\n      console.log(\"Bokeh: injecting CSS: https://cdn.pydata.org/bokeh/release/bokeh-0.12.13.min.css\");\n      Bokeh.embed.inject_css(\"https://cdn.pydata.org/bokeh/release/bokeh-0.12.13.min.css\");\n      console.log(\"Bokeh: injecting CSS: https://cdn.pydata.org/bokeh/release/bokeh-widgets-0.12.13.min.css\");\n      Bokeh.embed.inject_css(\"https://cdn.pydata.org/bokeh/release/bokeh-widgets-0.12.13.min.css\");\n      console.log(\"Bokeh: injecting CSS: https://cdn.pydata.org/bokeh/release/bokeh-tables-0.12.13.min.css\");\n      Bokeh.embed.inject_css(\"https://cdn.pydata.org/bokeh/release/bokeh-tables-0.12.13.min.css\");\n    }\n  ];\n\n  function run_inline_js() {\n    \n    if ((root.Bokeh !== undefined) || (force === true)) {\n      for (var i = 0; i < inline_js.length; i++) {\n        inline_js[i].call(root, root.Bokeh);\n      }if (force === true) {\n        display_loaded();\n      }} else if (Date.now() < root._bokeh_timeout) {\n      setTimeout(run_inline_js, 100);\n    } else if (!root._bokeh_failed_load) {\n      console.log(\"Bokeh: BokehJS failed to load within specified timeout.\");\n      root._bokeh_failed_load = true;\n    } else if (force !== true) {\n      var cell = $(document.getElementById(\"a9f54a01-64b8-4c08-85fc-107ca4adea6e\")).parents('.cell').data().cell;\n      cell.output_area.append_execute_result(NB_LOAD_WARNING)\n    }\n\n  }\n\n  if (root._bokeh_is_loading === 0) {\n    console.log(\"Bokeh: BokehJS loaded, going straight to plotting\");\n    run_inline_js();\n  } else {\n    load_libs(js_urls, function() {\n      console.log(\"Bokeh: BokehJS plotting callback run at\", now());\n      run_inline_js();\n    });\n  }\n}(window));"
     },
     "metadata": {},
     "output_type": "display_data"
    }
   ],
   "source": [
    "from bokeh.io import output_notebook\n",
    "from bokeh.plotting import figure, show\n",
    "from bokeh.models import HoverTool, CustomJS, ColumnDataSource, Slider\n",
    "from bokeh.layouts import column\n",
    "from bokeh.palettes import all_palettes\n",
    "output_notebook()"
   ]
  },
  {
   "cell_type": "code",
   "execution_count": 59,
   "metadata": {},
   "outputs": [],
   "source": [
    "source = ColumnDataSource(\n",
    "        data=dict(\n",
    "            x = tsne_embedding.x,\n",
    "            y = tsne_embedding.y,\n",
    "            colors = [all_palettes['Category20'][20][i] for i in tsne_embedding.hue],\n",
    "            topic = [i for i in tsne_embedding.hue],\n",
    "            alpha = [0.7] * tsne_embedding.shape[0],\n",
    "            size = [5] * tsne_embedding.shape[0]\n",
    "        )\n",
    "    )\n",
    "\n",
    "hover_tsne = HoverTool(names=[\"train\"], tooltips=\"\"\"\n",
    "    <div style=\"margin: 10\">\n",
    "        <div style=\"margin: 0 auto; width:300px;\">\n",
    "            <span style=\"font-size: 12px; font-weight: bold;\">Topic:</span>\n",
    "            <span style=\"font-size: 12px\">@topic</span>\n",
    "        </div>\n",
    "    </div>\n",
    "    \"\"\")\n",
    "tools_tsne = [hover_tsne, 'pan', 'wheel_zoom', 'reset']\n",
    "plot_tsne = figure(plot_width=700, plot_height=700, tools=tools_tsne, title='Newsgroups')\n",
    "plot_tsne.circle('x', 'y', size='size', fill_color='colors', \n",
    "                 alpha='alpha', line_alpha=0, line_width=0.01, source=source, name=\"train\")\n",
    "\n",
    "callback = CustomJS(args=dict(source=source), code=\"\"\"\n",
    "    var data = source.data;\n",
    "    var f = cb_obj.value\n",
    "    x = data['x']\n",
    "    y = data['y']\n",
    "    colors = data['colors']\n",
    "    alpha = data['alpha']\n",
    "    size = data['size']\n",
    "    for (i = 0; i < x.length; i++) {\n",
    "        alpha[i] = 0.7\n",
    "        size[i] = 5\n",
    "    }\n",
    "    source.trigger('change');\n",
    "\"\"\")"
   ]
  },
  {
   "cell_type": "code",
   "execution_count": 60,
   "metadata": {
    "scrolled": true
   },
   "outputs": [
    {
     "data": {
      "text/html": [
       "\n",
       "<div class=\"bk-root\">\n",
       "    <div class=\"bk-plotdiv\" id=\"e1d8c04a-a40b-428d-ad0b-0df228496923\"></div>\n",
       "</div>"
      ]
     },
     "metadata": {},
     "output_type": "display_data"
    },
    {
     "data": {
      "application/javascript": [
       "(function(root) {\n",
       "  function embed_document(root) {\n",
       "    \n",
       "  var docs_json = {\"ce468ab3-aee6-49a3-bbaa-3bf1085a4c5f\":{\"roots\":{\"references\":[{\"attributes\":{},\"id\":\"f0d1ca18-172c-4d76-8fab-2ed6af7a7b76\",\"type\":\"LinearScale\"},{\"attributes\":{\"formatter\":{\"id\":\"c81fecd0-7d69-484d-a2e3-bfe227640f12\",\"type\":\"BasicTickFormatter\"},\"plot\":{\"id\":\"dca54b76-cb7b-4bb4-89d7-e3c379cc972c\",\"subtype\":\"Figure\",\"type\":\"Plot\"},\"ticker\":{\"id\":\"e7ded591-ba11-4074-bd49-b147c0e57a4c\",\"type\":\"BasicTicker\"}},\"id\":\"c1332d05-8172-4a38-bec7-64bc8a0aae3b\",\"type\":\"LinearAxis\"},{\"attributes\":{},\"id\":\"e7ded591-ba11-4074-bd49-b147c0e57a4c\",\"type\":\"BasicTicker\"},{\"attributes\":{\"below\":[{\"id\":\"c1332d05-8172-4a38-bec7-64bc8a0aae3b\",\"type\":\"LinearAxis\"}],\"left\":[{\"id\":\"3a4dd075-266f-4b8c-bebe-9466ae8e78aa\",\"type\":\"LinearAxis\"}],\"plot_height\":700,\"plot_width\":700,\"renderers\":[{\"id\":\"c1332d05-8172-4a38-bec7-64bc8a0aae3b\",\"type\":\"LinearAxis\"},{\"id\":\"a56c3237-a25a-4450-8c55-246b94b4f72a\",\"type\":\"Grid\"},{\"id\":\"3a4dd075-266f-4b8c-bebe-9466ae8e78aa\",\"type\":\"LinearAxis\"},{\"id\":\"2d4d5ab9-be94-4eb4-853b-dd322fe974c0\",\"type\":\"Grid\"},{\"id\":\"b0197ae4-a556-4018-bfa7-3af0390397ce\",\"type\":\"GlyphRenderer\"}],\"title\":{\"id\":\"bc4144e4-7914-48a1-92b4-a180ffaa9f9c\",\"type\":\"Title\"},\"toolbar\":{\"id\":\"70f4ae95-1e43-4e85-b6fa-3dce0a2c7003\",\"type\":\"Toolbar\"},\"x_range\":{\"id\":\"3ee1bcec-8770-48e0-9983-0a02d114194b\",\"type\":\"DataRange1d\"},\"x_scale\":{\"id\":\"be9fd3f6-5005-4851-b4e1-5a3159aa86cc\",\"type\":\"LinearScale\"},\"y_range\":{\"id\":\"d42f3d28-2853-4bf8-8bdd-6ce0e37ab1bd\",\"type\":\"DataRange1d\"},\"y_scale\":{\"id\":\"f0d1ca18-172c-4d76-8fab-2ed6af7a7b76\",\"type\":\"LinearScale\"}},\"id\":\"dca54b76-cb7b-4bb4-89d7-e3c379cc972c\",\"subtype\":\"Figure\",\"type\":\"Plot\"},{\"attributes\":{\"plot\":{\"id\":\"dca54b76-cb7b-4bb4-89d7-e3c379cc972c\",\"subtype\":\"Figure\",\"type\":\"Plot\"},\"ticker\":{\"id\":\"e7ded591-ba11-4074-bd49-b147c0e57a4c\",\"type\":\"BasicTicker\"}},\"id\":\"a56c3237-a25a-4450-8c55-246b94b4f72a\",\"type\":\"Grid\"},{\"attributes\":{\"callback\":null,\"names\":[\"train\"],\"tooltips\":\"\\n    <div style=\\\"margin: 10\\\">\\n        <div style=\\\"margin: 0 auto; width:300px;\\\">\\n            <span style=\\\"font-size: 12px; font-weight: bold;\\\">Topic:</span>\\n            <span style=\\\"font-size: 12px\\\">@topic</span>\\n        </div>\\n    </div>\\n    \"},\"id\":\"c1d02b79-2cb8-4d8e-8298-0168d6a2267a\",\"type\":\"HoverTool\"},{\"attributes\":{\"formatter\":{\"id\":\"e47eb808-ce26-483c-b539-6d2c5bdefc0c\",\"type\":\"BasicTickFormatter\"},\"plot\":{\"id\":\"dca54b76-cb7b-4bb4-89d7-e3c379cc972c\",\"subtype\":\"Figure\",\"type\":\"Plot\"},\"ticker\":{\"id\":\"79c722bb-10a9-4d10-81e1-68cd97e8b107\",\"type\":\"BasicTicker\"}},\"id\":\"3a4dd075-266f-4b8c-bebe-9466ae8e78aa\",\"type\":\"LinearAxis\"},{\"attributes\":{\"fill_alpha\":{\"field\":\"alpha\"},\"fill_color\":{\"field\":\"colors\"},\"line_alpha\":{\"value\":0},\"line_color\":{\"value\":\"#1f77b4\"},\"line_width\":{\"value\":0.01},\"size\":{\"field\":\"size\",\"units\":\"screen\"},\"x\":{\"field\":\"x\"},\"y\":{\"field\":\"y\"}},\"id\":\"d9bc4f70-9827-439f-b4c9-fe94b7c0cc25\",\"type\":\"Circle\"},{\"attributes\":{},\"id\":\"79c722bb-10a9-4d10-81e1-68cd97e8b107\",\"type\":\"BasicTicker\"},{\"attributes\":{\"plot\":null,\"text\":\"Newsgroups\"},\"id\":\"bc4144e4-7914-48a1-92b4-a180ffaa9f9c\",\"type\":\"Title\"},{\"attributes\":{\"dimension\":1,\"plot\":{\"id\":\"dca54b76-cb7b-4bb4-89d7-e3c379cc972c\",\"subtype\":\"Figure\",\"type\":\"Plot\"},\"ticker\":{\"id\":\"79c722bb-10a9-4d10-81e1-68cd97e8b107\",\"type\":\"BasicTicker\"}},\"id\":\"2d4d5ab9-be94-4eb4-853b-dd322fe974c0\",\"type\":\"Grid\"},{\"attributes\":{\"callback\":null},\"id\":\"3ee1bcec-8770-48e0-9983-0a02d114194b\",\"type\":\"DataRange1d\"},{\"attributes\":{\"active_drag\":\"auto\",\"active_inspect\":\"auto\",\"active_scroll\":\"auto\",\"active_tap\":\"auto\",\"tools\":[{\"id\":\"c1d02b79-2cb8-4d8e-8298-0168d6a2267a\",\"type\":\"HoverTool\"},{\"id\":\"5aefa5d1-95a3-4ce6-b981-8ecae6adbb35\",\"type\":\"PanTool\"},{\"id\":\"4e3627cd-b682-439f-ae57-a920ecdb4de2\",\"type\":\"WheelZoomTool\"},{\"id\":\"52528e42-c919-488e-a778-7a35a569f36b\",\"type\":\"ResetTool\"}]},\"id\":\"70f4ae95-1e43-4e85-b6fa-3dce0a2c7003\",\"type\":\"Toolbar\"},{\"attributes\":{\"callback\":null,\"column_names\":[\"x\",\"y\",\"colors\",\"topic\",\"alpha\",\"size\"],\"data\":{\"alpha\":[0.7,0.7,0.7,0.7,0.7,0.7,0.7,0.7,0.7,0.7,0.7,0.7,0.7,0.7,0.7,0.7,0.7,0.7,0.7,0.7,0.7,0.7,0.7,0.7,0.7,0.7,0.7,0.7,0.7,0.7,0.7,0.7,0.7,0.7,0.7,0.7,0.7,0.7,0.7,0.7,0.7,0.7,0.7,0.7,0.7,0.7,0.7,0.7,0.7,0.7,0.7,0.7,0.7,0.7,0.7,0.7,0.7,0.7,0.7,0.7,0.7,0.7,0.7,0.7,0.7,0.7,0.7,0.7,0.7,0.7,0.7,0.7,0.7,0.7,0.7,0.7,0.7,0.7,0.7,0.7,0.7,0.7,0.7,0.7,0.7,0.7,0.7,0.7,0.7,0.7,0.7,0.7,0.7,0.7,0.7,0.7,0.7,0.7,0.7,0.7,0.7,0.7,0.7,0.7,0.7,0.7,0.7,0.7,0.7,0.7,0.7,0.7,0.7,0.7,0.7,0.7,0.7,0.7,0.7,0.7,0.7,0.7,0.7,0.7,0.7,0.7,0.7,0.7,0.7,0.7,0.7,0.7,0.7,0.7,0.7,0.7,0.7,0.7,0.7,0.7,0.7,0.7,0.7,0.7,0.7,0.7,0.7,0.7,0.7,0.7,0.7,0.7,0.7,0.7,0.7,0.7,0.7,0.7,0.7,0.7,0.7,0.7,0.7,0.7,0.7,0.7,0.7,0.7,0.7,0.7,0.7,0.7,0.7,0.7,0.7,0.7,0.7,0.7,0.7,0.7,0.7,0.7,0.7,0.7,0.7,0.7,0.7,0.7,0.7,0.7,0.7,0.7,0.7,0.7,0.7,0.7,0.7,0.7,0.7,0.7,0.7,0.7,0.7,0.7,0.7,0.7,0.7,0.7,0.7,0.7,0.7,0.7,0.7,0.7,0.7,0.7,0.7,0.7,0.7,0.7,0.7,0.7,0.7,0.7,0.7,0.7,0.7,0.7,0.7,0.7,0.7,0.7,0.7,0.7,0.7,0.7,0.7,0.7,0.7,0.7,0.7,0.7,0.7,0.7,0.7,0.7,0.7,0.7,0.7,0.7,0.7,0.7,0.7,0.7,0.7,0.7,0.7,0.7,0.7,0.7,0.7,0.7,0.7,0.7,0.7,0.7,0.7,0.7,0.7,0.7,0.7,0.7,0.7,0.7,0.7,0.7,0.7,0.7,0.7,0.7,0.7,0.7,0.7,0.7,0.7,0.7,0.7,0.7,0.7,0.7,0.7,0.7,0.7,0.7,0.7,0.7,0.7,0.7,0.7,0.7,0.7,0.7,0.7,0.7,0.7,0.7,0.7,0.7,0.7,0.7,0.7,0.7,0.7,0.7,0.7,0.7,0.7,0.7,0.7,0.7,0.7,0.7,0.7,0.7,0.7,0.7,0.7,0.7,0.7,0.7,0.7,0.7,0.7,0.7,0.7,0.7,0.7,0.7,0.7,0.7,0.7,0.7,0.7,0.7,0.7,0.7,0.7,0.7,0.7,0.7,0.7,0.7,0.7,0.7,0.7,0.7,0.7,0.7,0.7,0.7,0.7,0.7,0.7,0.7,0.7,0.7,0.7,0.7,0.7,0.7,0.7,0.7,0.7,0.7,0.7,0.7,0.7,0.7,0.7,0.7,0.7,0.7,0.7,0.7,0.7,0.7,0.7,0.7,0.7,0.7,0.7,0.7,0.7,0.7,0.7,0.7,0.7,0.7,0.7,0.7,0.7,0.7,0.7,0.7,0.7,0.7,0.7,0.7,0.7,0.7,0.7,0.7,0.7,0.7,0.7,0.7,0.7,0.7,0.7,0.7,0.7,0.7,0.7,0.7,0.7,0.7,0.7,0.7,0.7,0.7,0.7,0.7,0.7,0.7,0.7,0.7,0.7,0.7,0.7,0.7,0.7,0.7,0.7,0.7,0.7,0.7,0.7,0.7,0.7,0.7,0.7,0.7,0.7,0.7,0.7,0.7,0.7,0.7,0.7,0.7,0.7,0.7,0.7,0.7,0.7,0.7,0.7,0.7,0.7,0.7,0.7,0.7,0.7,0.7,0.7,0.7,0.7,0.7,0.7,0.7,0.7,0.7,0.7,0.7,0.7,0.7,0.7,0.7,0.7,0.7,0.7,0.7,0.7,0.7,0.7,0.7,0.7,0.7,0.7,0.7],\"colors\":[\"#8c564b\",\"#ff7f0e\",\"#c49c94\",\"#c7c7c7\",\"#ff7f0e\",\"#ffbb78\",\"#17becf\",\"#c7c7c7\",\"#e377c2\",\"#aec7e8\",\"#8c564b\",\"#7f7f7f\",\"#c7c7c7\",\"#8c564b\",\"#c7c7c7\",\"#ff7f0e\",\"#9edae5\",\"#9edae5\",\"#7f7f7f\",\"#c7c7c7\",\"#ff7f0e\",\"#aec7e8\",\"#aec7e8\",\"#8c564b\",\"#9edae5\",\"#ffbb78\",\"#8c564b\",\"#c49c94\",\"#ff7f0e\",\"#c49c94\",\"#98df8a\",\"#e377c2\",\"#98df8a\",\"#98df8a\",\"#17becf\",\"#c49c94\",\"#7f7f7f\",\"#c49c94\",\"#ff7f0e\",\"#ff7f0e\",\"#bcbd22\",\"#98df8a\",\"#c49c94\",\"#8c564b\",\"#98df8a\",\"#ffbb78\",\"#ffbb78\",\"#f7b6d2\",\"#dbdb8d\",\"#1f77b4\",\"#8c564b\",\"#c49c94\",\"#bcbd22\",\"#ffbb78\",\"#bcbd22\",\"#c49c94\",\"#17becf\",\"#dbdb8d\",\"#dbdb8d\",\"#c7c7c7\",\"#dbdb8d\",\"#9edae5\",\"#f7b6d2\",\"#7f7f7f\",\"#aec7e8\",\"#aec7e8\",\"#c7c7c7\",\"#f7b6d2\",\"#17becf\",\"#c7c7c7\",\"#bcbd22\",\"#ff7f0e\",\"#17becf\",\"#7f7f7f\",\"#7f7f7f\",\"#ff9896\",\"#17becf\",\"#c49c94\",\"#c7c7c7\",\"#ffbb78\",\"#ffbb78\",\"#9467bd\",\"#8c564b\",\"#e377c2\",\"#e377c2\",\"#c7c7c7\",\"#ffbb78\",\"#8c564b\",\"#98df8a\",\"#c49c94\",\"#dbdb8d\",\"#aec7e8\",\"#c49c94\",\"#8c564b\",\"#f7b6d2\",\"#c49c94\",\"#f7b6d2\",\"#17becf\",\"#f7b6d2\",\"#1f77b4\",\"#8c564b\",\"#ffbb78\",\"#c7c7c7\",\"#98df8a\",\"#ff7f0e\",\"#dbdb8d\",\"#9edae5\",\"#c49c94\",\"#98df8a\",\"#c7c7c7\",\"#c49c94\",\"#ffbb78\",\"#17becf\",\"#dbdb8d\",\"#e377c2\",\"#dbdb8d\",\"#9467bd\",\"#ffbb78\",\"#8c564b\",\"#ff7f0e\",\"#aec7e8\",\"#ff7f0e\",\"#17becf\",\"#7f7f7f\",\"#2ca02c\",\"#c7c7c7\",\"#9467bd\",\"#ff7f0e\",\"#ffbb78\",\"#ff9896\",\"#ff9896\",\"#c7c7c7\",\"#c7c7c7\",\"#8c564b\",\"#c49c94\",\"#7f7f7f\",\"#c7c7c7\",\"#98df8a\",\"#8c564b\",\"#17becf\",\"#c7c7c7\",\"#9467bd\",\"#c49c94\",\"#c7c7c7\",\"#d62728\",\"#ffbb78\",\"#8c564b\",\"#2ca02c\",\"#c49c94\",\"#c49c94\",\"#8c564b\",\"#e377c2\",\"#17becf\",\"#c49c94\",\"#ffbb78\",\"#bcbd22\",\"#98df8a\",\"#7f7f7f\",\"#ffbb78\",\"#8c564b\",\"#1f77b4\",\"#98df8a\",\"#7f7f7f\",\"#aec7e8\",\"#c49c94\",\"#c49c94\",\"#c49c94\",\"#c49c94\",\"#bcbd22\",\"#e377c2\",\"#8c564b\",\"#98df8a\",\"#ff7f0e\",\"#d62728\",\"#c49c94\",\"#c7c7c7\",\"#e377c2\",\"#ffbb78\",\"#17becf\",\"#8c564b\",\"#98df8a\",\"#c7c7c7\",\"#c7c7c7\",\"#c49c94\",\"#c49c94\",\"#c49c94\",\"#ff7f0e\",\"#17becf\",\"#c7c7c7\",\"#ffbb78\",\"#c7c7c7\",\"#dbdb8d\",\"#c49c94\",\"#ffbb78\",\"#dbdb8d\",\"#8c564b\",\"#f7b6d2\",\"#17becf\",\"#ffbb78\",\"#f7b6d2\",\"#ffbb78\",\"#c49c94\",\"#dbdb8d\",\"#ff7f0e\",\"#9467bd\",\"#17becf\",\"#c49c94\",\"#2ca02c\",\"#c49c94\",\"#e377c2\",\"#7f7f7f\",\"#aec7e8\",\"#ff7f0e\",\"#c5b0d5\",\"#c5b0d5\",\"#ffbb78\",\"#ffbb78\",\"#dbdb8d\",\"#c7c7c7\",\"#c5b0d5\",\"#f7b6d2\",\"#aec7e8\",\"#ffbb78\",\"#ffbb78\",\"#ff7f0e\",\"#ff7f0e\",\"#c5b0d5\",\"#17becf\",\"#c49c94\",\"#c49c94\",\"#98df8a\",\"#8c564b\",\"#ff7f0e\",\"#c49c94\",\"#c49c94\",\"#ffbb78\",\"#e377c2\",\"#e377c2\",\"#d62728\",\"#1f77b4\",\"#7f7f7f\",\"#aec7e8\",\"#8c564b\",\"#ff7f0e\",\"#e377c2\",\"#c7c7c7\",\"#c49c94\",\"#9edae5\",\"#7f7f7f\",\"#c7c7c7\",\"#ff7f0e\",\"#c49c94\",\"#98df8a\",\"#9edae5\",\"#c49c94\",\"#dbdb8d\",\"#e377c2\",\"#c7c7c7\",\"#7f7f7f\",\"#aec7e8\",\"#ff7f0e\",\"#ff7f0e\",\"#ff7f0e\",\"#ffbb78\",\"#7f7f7f\",\"#dbdb8d\",\"#f7b6d2\",\"#c7c7c7\",\"#c5b0d5\",\"#bcbd22\",\"#c7c7c7\",\"#1f77b4\",\"#9edae5\",\"#ffbb78\",\"#ffbb78\",\"#7f7f7f\",\"#9edae5\",\"#9edae5\",\"#bcbd22\",\"#c5b0d5\",\"#dbdb8d\",\"#98df8a\",\"#c5b0d5\",\"#c49c94\",\"#ff7f0e\",\"#d62728\",\"#bcbd22\",\"#c49c94\",\"#aec7e8\",\"#c7c7c7\",\"#ff7f0e\",\"#ffbb78\",\"#ffbb78\",\"#17becf\",\"#c5b0d5\",\"#98df8a\",\"#c7c7c7\",\"#c49c94\",\"#7f7f7f\",\"#17becf\",\"#c49c94\",\"#ffbb78\",\"#c5b0d5\",\"#17becf\",\"#c49c94\",\"#1f77b4\",\"#ffbb78\",\"#1f77b4\",\"#17becf\",\"#c49c94\",\"#ff7f0e\",\"#ffbb78\",\"#1f77b4\",\"#17becf\",\"#c49c94\",\"#ff7f0e\",\"#7f7f7f\",\"#ffbb78\",\"#ffbb78\",\"#f7b6d2\",\"#ffbb78\",\"#c5b0d5\",\"#ff9896\",\"#ffbb78\",\"#c7c7c7\",\"#7f7f7f\",\"#c49c94\",\"#9edae5\",\"#c7c7c7\",\"#ffbb78\",\"#ffbb78\",\"#9467bd\",\"#aec7e8\",\"#8c564b\",\"#dbdb8d\",\"#f7b6d2\",\"#c7c7c7\",\"#ff7f0e\",\"#ffbb78\",\"#aec7e8\",\"#f7b6d2\",\"#ffbb78\",\"#c7c7c7\",\"#c49c94\",\"#17becf\",\"#bcbd22\",\"#ffbb78\",\"#1f77b4\",\"#c7c7c7\",\"#ff7f0e\",\"#ff7f0e\",\"#e377c2\",\"#7f7f7f\",\"#ffbb78\",\"#e377c2\",\"#dbdb8d\",\"#bcbd22\",\"#ffbb78\",\"#9edae5\",\"#7f7f7f\",\"#ffbb78\",\"#ff7f0e\",\"#c7c7c7\",\"#ff7f0e\",\"#7f7f7f\",\"#e377c2\",\"#ffbb78\",\"#dbdb8d\",\"#aec7e8\",\"#dbdb8d\",\"#c7c7c7\",\"#c49c94\",\"#7f7f7f\",\"#c49c94\",\"#17becf\",\"#ffbb78\",\"#ffbb78\",\"#ffbb78\",\"#bcbd22\",\"#e377c2\",\"#17becf\",\"#c49c94\",\"#17becf\",\"#c5b0d5\",\"#c49c94\",\"#ff7f0e\",\"#c7c7c7\",\"#7f7f7f\",\"#c49c94\",\"#aec7e8\",\"#ff7f0e\",\"#ff7f0e\",\"#ffbb78\",\"#ffbb78\",\"#ff7f0e\",\"#ffbb78\",\"#c7c7c7\",\"#17becf\",\"#9edae5\",\"#17becf\",\"#9467bd\",\"#ffbb78\",\"#aec7e8\",\"#e377c2\",\"#8c564b\",\"#c49c94\",\"#dbdb8d\",\"#ffbb78\",\"#17becf\",\"#8c564b\",\"#dbdb8d\",\"#c49c94\",\"#ffbb78\",\"#ff9896\",\"#c7c7c7\",\"#ff9896\",\"#e377c2\",\"#ffbb78\",\"#c7c7c7\",\"#c7c7c7\",\"#aec7e8\",\"#ff7f0e\",\"#17becf\",\"#17becf\",\"#ff7f0e\",\"#c49c94\",\"#ffbb78\",\"#e377c2\",\"#8c564b\",\"#ffbb78\",\"#ffbb78\",\"#c49c94\",\"#c49c94\",\"#c49c94\",\"#7f7f7f\",\"#ffbb78\",\"#ffbb78\",\"#c49c94\",\"#ffbb78\",\"#c7c7c7\",\"#9467bd\",\"#98df8a\",\"#e377c2\",\"#98df8a\",\"#c49c94\",\"#ffbb78\",\"#ff7f0e\",\"#7f7f7f\",\"#c49c94\",\"#7f7f7f\",\"#ffbb78\",\"#aec7e8\",\"#ff7f0e\",\"#98df8a\",\"#e377c2\",\"#c49c94\",\"#1f77b4\",\"#c49c94\",\"#7f7f7f\",\"#c7c7c7\",\"#aec7e8\",\"#8c564b\",\"#ff7f0e\",\"#8c564b\",\"#ff9896\",\"#9edae5\",\"#c49c94\",\"#17becf\",\"#c49c94\",\"#c5b0d5\",\"#ffbb78\",\"#c49c94\",\"#ff7f0e\",\"#9edae5\",\"#1f77b4\",\"#c49c94\",\"#f7b6d2\",\"#98df8a\",\"#d62728\",\"#ffbb78\",\"#ff7f0e\",\"#9edae5\",\"#c5b0d5\",\"#c7c7c7\",\"#ffbb78\",\"#17becf\",\"#aec7e8\",\"#8c564b\",\"#ff7f0e\",\"#8c564b\",\"#e377c2\",\"#2ca02c\",\"#bcbd22\",\"#98df8a\",\"#aec7e8\",\"#ffbb78\",\"#aec7e8\",\"#ff7f0e\",\"#f7b6d2\",\"#c7c7c7\"],\"size\":[5,5,5,5,5,5,5,5,5,5,5,5,5,5,5,5,5,5,5,5,5,5,5,5,5,5,5,5,5,5,5,5,5,5,5,5,5,5,5,5,5,5,5,5,5,5,5,5,5,5,5,5,5,5,5,5,5,5,5,5,5,5,5,5,5,5,5,5,5,5,5,5,5,5,5,5,5,5,5,5,5,5,5,5,5,5,5,5,5,5,5,5,5,5,5,5,5,5,5,5,5,5,5,5,5,5,5,5,5,5,5,5,5,5,5,5,5,5,5,5,5,5,5,5,5,5,5,5,5,5,5,5,5,5,5,5,5,5,5,5,5,5,5,5,5,5,5,5,5,5,5,5,5,5,5,5,5,5,5,5,5,5,5,5,5,5,5,5,5,5,5,5,5,5,5,5,5,5,5,5,5,5,5,5,5,5,5,5,5,5,5,5,5,5,5,5,5,5,5,5,5,5,5,5,5,5,5,5,5,5,5,5,5,5,5,5,5,5,5,5,5,5,5,5,5,5,5,5,5,5,5,5,5,5,5,5,5,5,5,5,5,5,5,5,5,5,5,5,5,5,5,5,5,5,5,5,5,5,5,5,5,5,5,5,5,5,5,5,5,5,5,5,5,5,5,5,5,5,5,5,5,5,5,5,5,5,5,5,5,5,5,5,5,5,5,5,5,5,5,5,5,5,5,5,5,5,5,5,5,5,5,5,5,5,5,5,5,5,5,5,5,5,5,5,5,5,5,5,5,5,5,5,5,5,5,5,5,5,5,5,5,5,5,5,5,5,5,5,5,5,5,5,5,5,5,5,5,5,5,5,5,5,5,5,5,5,5,5,5,5,5,5,5,5,5,5,5,5,5,5,5,5,5,5,5,5,5,5,5,5,5,5,5,5,5,5,5,5,5,5,5,5,5,5,5,5,5,5,5,5,5,5,5,5,5,5,5,5,5,5,5,5,5,5,5,5,5,5,5,5,5,5,5,5,5,5,5,5,5,5,5,5,5,5,5,5,5,5,5,5,5,5,5,5,5,5,5,5,5,5,5,5,5,5,5,5,5,5,5,5,5,5,5,5,5,5,5,5,5,5,5,5,5,5,5,5,5,5,5,5,5,5,5,5,5,5,5,5,5,5],\"topic\":[10,2,11,15,2,3,18,15,12,1,10,14,15,10,15,2,19,19,14,15,2,1,1,10,19,3,10,11,2,11,5,12,5,5,18,11,14,11,2,2,16,5,11,10,5,3,3,13,17,0,10,11,16,3,16,11,18,17,17,15,17,19,13,14,1,1,15,13,18,15,16,2,18,14,14,7,18,11,15,3,3,8,10,12,12,15,3,10,5,11,17,1,11,10,13,11,13,18,13,0,10,3,15,5,2,17,19,11,5,15,11,3,18,17,12,17,8,3,10,2,1,2,18,14,4,15,8,2,3,7,7,15,15,10,11,14,15,5,10,18,15,8,11,15,6,3,10,4,11,11,10,12,18,11,3,16,5,14,3,10,0,5,14,1,11,11,11,11,16,12,10,5,2,6,11,15,12,3,18,10,5,15,15,11,11,11,2,18,15,3,15,17,11,3,17,10,13,18,3,13,3,11,17,2,8,18,11,4,11,12,14,1,2,9,9,3,3,17,15,9,13,1,3,3,2,2,9,18,11,11,5,10,2,11,11,3,12,12,6,0,14,1,10,2,12,15,11,19,14,15,2,11,5,19,11,17,12,15,14,1,2,2,2,3,14,17,13,15,9,16,15,0,19,3,3,14,19,19,16,9,17,5,9,11,2,6,16,11,1,15,2,3,3,18,9,5,15,11,14,18,11,3,9,18,11,0,3,0,18,11,2,3,0,18,11,2,14,3,3,13,3,9,7,3,15,14,11,19,15,3,3,8,1,10,17,13,15,2,3,1,13,3,15,11,18,16,3,0,15,2,2,12,14,3,12,17,16,3,19,14,3,2,15,2,14,12,3,17,1,17,15,11,14,11,18,3,3,3,16,12,18,11,18,9,11,2,15,14,11,1,2,2,3,3,2,3,15,18,19,18,8,3,1,12,10,11,17,3,18,10,17,11,3,7,15,7,12,3,15,15,1,2,18,18,2,11,3,12,10,3,3,11,11,11,14,3,3,11,3,15,8,5,12,5,11,3,2,14,11,14,3,1,2,5,12,11,0,11,14,15,1,10,2,10,7,19,11,18,11,9,3,11,2,19,0,11,13,5,6,3,2,19,9,15,3,18,1,10,2,10,12,4,16,5,1,3,1,2,13,15],\"x\":{\"__ndarray__\":\"Ym/QQDmgJ0Lf4IXB2jj7Qeb3JULNzovBLMVewO//7UGVQQ5BfM9GQf2Rz0BBTCpAGxr2Qaibw0D8B/pBPOklQvBjacCvco/AER4rQL1k/EFIYiVCbBFEQR5gR0EXB+tA6l2AwJbun8ChJORAlocJwUODKEJww3bBxpMJwGGvDUFwHhPAzyr7v6vtisACyqTA+adIQJHFh8Eh1LLARNYnQj0KOsCMcfC/HKRjwRY53kB8Bdy/RCyVwSw+kcHcVKPArSKuwBdKP8HY6tBA5HpmwVdScsDJZJPBLuY5wEB5gcFPVYTAAn6kwHcMrsDR9+ZBgy2uwPUOdsDA/23AuXZBQLrSQUHiB0tBB0T3QehkksDcKHfAKgX3QWcEPsANTShC8cRpwNvpBEBVKzxA+9QDwf4mWsA4/oPBvV70QUUZmMFj457BBq/kPivc0ECyogtB8h4QQcmC/EHoxpbBfgfmQNMxCcDSCFvBfTakwKfEMUF2qzrBXNjZQKFrpsAAG3TBjYeOwBvSW8DVCozA+tFEwcrA6kCJ9ZPBwq/mQVr+EsBAXydC5LOtwC8fgcCamfzAilQSwGqF+EED53bBWbCCwWSfYMBfZ53A8qAGQX7epMBAWd8+7Q+YwWIy5UDCbCZCoAFLQb8EJkInInrAgSRLQMTJCMHjB+RBLd3gPuR9KELE7pDBEx4DwXZ0A8HZefdBvy7sQZlYwkBisRrBqZrjwMGP+kHX19y/xvTmQG5JWMDMU/xB8OTgPs/AgMHD2vtBWg4BwVa1qsCaCN5ApfYPwX1KcsEKsHjBjCvoQLhCEEF+oYjApotKwYrBVcHfjkLAKz/ov+MbSUCjtZvBVaLoQMQtQMF71du/KK8eQCuvQUHoeGDBomlXwYo/a8FPGjrBTxA6wL7HEkG8yNtAS1vbv7EOJkKIDfbANidswfz+80FcsQ1Bd/GXwVw1gsDz3c9AwQ0LwAq3+kG/peJByB+HwalvT8HZDk7BoFonQl0ujcDJofhB/YRPwZDS90G98q3AJyF3wVy2lsHlqKbAs9HqQJN8j8C+loHA0+STwRuMacCba5TBZrNvwVnMrMD31RxC7dzgPvhvjMDxh0XBtdEIwQNXVMHamQJBz+JLwEMJQkHpFh5CgwrxwCJ5/cCtlY/B5guWwab4qcDAtvdBpozywHVEnMDgljhBVVKQwVnofsFnOiVCn0UoQnAF8cAjZITAa51Uwbiyb8HxLQ3AGH3XQIvHJ0LmiFLBMCpkwVefk8FIoRRBv0oTQU3D7MBg/T/B5u9NQGDZREGuXtNAaG0mQgyoDkHxWty/pSGGwS9facCRRCNAkhP5QTkaIkLe4IXBKF7bvxQ6acA1PobBtCikwDKBEUEUTfhBg1NIQMKxSUEugihCpwQmQqA6JkLD0SHBSxIUQCT/nMChnY3AEQn8QRoX8cBDDDrAGxr2QQ9/R8EzYGnAW/aOwV13bsHTG0tA7INpwGKrb8D3OTrA1r3zwEAVrsDKKBLAFuX0wKmvBsHdriVCYCv5wEaCSMAbERTBpGpIQZQE+UFL+x5CEsOEwWRuk8GQMVvAsJfywMW2+L9u3fRBI96BweeRJ0AyfnPApLOGwcsWecFXgvHAgaRvwK38eMFnJkDBWMNvwWmzP8G3z1XA+ouAwQLa6sDHZJPBWThAweF6jMC1YEPBw6YlQlIPQ0DPEZbBWkuiwD2dYsDzcZzAqy3xwLh9A8EiwpXBBY71QZpSSEBQiHvB2fdpwBcA+0GfmpfB2tiUwTJ03z4/wkJBohHSQJXbqMB5IqvA/P7zQf3sHUJsHpbBaQU9QTYslMAa5WvBDMjgQXN9g8FMlm/A1rhswFHtlsHeuj/Bb9D3QYrDH0JKgyVC/joVQcVn5sDtWKHAud8NQS8QmcC9BzrAaMuWwaVlacBuR+bAfymVwZTas8DgPfdB6z0lQhdg4D9/VRVBP4GVwXQqpMB34ERB/62pwJ9Z70FmtVjBDLwpQCwBXMFPp1rAM4qSwSlzl8Gx8ZfBUmk6wHo3FEG44orAQ7Z2wf+DXcDhF/HAWQ2CwfGbJ0LGCOtB9+gnQI6FXMHszkdBF2DfwJbEJ0IA5FXBlguCwe0uJ0LdqpXBJ172QROSdsAzYGnAICZ3wAqp3T44yJPBvz1HQQI9FUFTkNxA2ktzwXKqpMAI3IHBA+SKwL/w1kBgJaTAcHeEwca6k8ERdAPBZgb3QYhmA8HUXgVBw++CwfHE9UEVS/dBa/hBQf3JJ0LLbYTALuqKwHa+I0IaCm7BXCqVwbnMB0G0+dNAfiuWwaHnlMEplRTBG/uIwRnvUcG93jlAy6iVwYgvZsH3fpDAy+KVwVAN/EEFlOA+zZT0vwY/FUEX2h/ABAlmwfoScMHIlSZCpGJHQOd4YMFHVSlAti+JwXKGOUFb7SVCh7zwvwUDE0G3TIXBGW1AwRewLMGUGx9AHHL6QWK0RUEVC89AzyYhQmUC10CRdQPBv99qwHCXS8EBzHbAFNNRwfQj8cBc+5fBpbARweEYJkLeNmnA3OA/wXVzf8EJw4jAdvACwJSq7sBwDJjBaYAlQv3NacCsDPHA1fP2QeVblcGBbnTA2wNLQRde6UCbAezA4u7jQGMPFkE/yQjBwqpHwMLzEcDfVUpBbJ5uwXz8QkHSISVCuBJuwM9w40E=\",\"dtype\":\"float32\",\"shape\":[500]},\"y\":{\"__ndarray__\":\"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\",\"dtype\":\"float32\",\"shape\":[500]}}},\"id\":\"1770e8e7-5a57-4511-a654-530f369bafc8\",\"type\":\"ColumnDataSource\"},{\"attributes\":{\"data_source\":{\"id\":\"1770e8e7-5a57-4511-a654-530f369bafc8\",\"type\":\"ColumnDataSource\"},\"glyph\":{\"id\":\"d9bc4f70-9827-439f-b4c9-fe94b7c0cc25\",\"type\":\"Circle\"},\"hover_glyph\":null,\"muted_glyph\":null,\"name\":\"train\",\"nonselection_glyph\":{\"id\":\"a78fad6e-bf1c-43d2-a3f0-1ec590e72cfc\",\"type\":\"Circle\"},\"selection_glyph\":null,\"view\":{\"id\":\"c2a58964-d0ac-493d-9fdc-2bff17b68299\",\"type\":\"CDSView\"}},\"id\":\"b0197ae4-a556-4018-bfa7-3af0390397ce\",\"type\":\"GlyphRenderer\"},{\"attributes\":{\"fill_alpha\":{\"value\":0.1},\"fill_color\":{\"value\":\"#1f77b4\"},\"line_alpha\":{\"value\":0.1},\"line_color\":{\"value\":\"#1f77b4\"},\"line_width\":{\"value\":0.01},\"size\":{\"field\":\"size\",\"units\":\"screen\"},\"x\":{\"field\":\"x\"},\"y\":{\"field\":\"y\"}},\"id\":\"a78fad6e-bf1c-43d2-a3f0-1ec590e72cfc\",\"type\":\"Circle\"},{\"attributes\":{},\"id\":\"5aefa5d1-95a3-4ce6-b981-8ecae6adbb35\",\"type\":\"PanTool\"},{\"attributes\":{\"callback\":null},\"id\":\"d42f3d28-2853-4bf8-8bdd-6ce0e37ab1bd\",\"type\":\"DataRange1d\"},{\"attributes\":{},\"id\":\"4e3627cd-b682-439f-ae57-a920ecdb4de2\",\"type\":\"WheelZoomTool\"},{\"attributes\":{},\"id\":\"c81fecd0-7d69-484d-a2e3-bfe227640f12\",\"type\":\"BasicTickFormatter\"},{\"attributes\":{},\"id\":\"52528e42-c919-488e-a778-7a35a569f36b\",\"type\":\"ResetTool\"},{\"attributes\":{\"source\":{\"id\":\"1770e8e7-5a57-4511-a654-530f369bafc8\",\"type\":\"ColumnDataSource\"}},\"id\":\"c2a58964-d0ac-493d-9fdc-2bff17b68299\",\"type\":\"CDSView\"},{\"attributes\":{},\"id\":\"e47eb808-ce26-483c-b539-6d2c5bdefc0c\",\"type\":\"BasicTickFormatter\"},{\"attributes\":{},\"id\":\"be9fd3f6-5005-4851-b4e1-5a3159aa86cc\",\"type\":\"LinearScale\"}],\"root_ids\":[\"dca54b76-cb7b-4bb4-89d7-e3c379cc972c\"]},\"title\":\"Bokeh Application\",\"version\":\"0.12.13\"}};\n",
       "  var render_items = [{\"docid\":\"ce468ab3-aee6-49a3-bbaa-3bf1085a4c5f\",\"elementid\":\"e1d8c04a-a40b-428d-ad0b-0df228496923\",\"modelid\":\"dca54b76-cb7b-4bb4-89d7-e3c379cc972c\"}];\n",
       "  root.Bokeh.embed.embed_items_notebook(docs_json, render_items);\n",
       "\n",
       "  }\n",
       "  if (root.Bokeh !== undefined) {\n",
       "    embed_document(root);\n",
       "  } else {\n",
       "    var attempts = 0;\n",
       "    var timer = setInterval(function(root) {\n",
       "      if (root.Bokeh !== undefined) {\n",
       "        embed_document(root);\n",
       "        clearInterval(timer);\n",
       "      }\n",
       "      attempts++;\n",
       "      if (attempts > 100) {\n",
       "        console.log(\"Bokeh: ERROR: Unable to run BokehJS code because BokehJS library is missing\")\n",
       "        clearInterval(timer);\n",
       "      }\n",
       "    }, 10, root)\n",
       "  }\n",
       "})(window);"
      ],
      "application/vnd.bokehjs_exec.v0+json": ""
     },
     "metadata": {
      "application/vnd.bokehjs_exec.v0+json": {
       "id": "dca54b76-cb7b-4bb4-89d7-e3c379cc972c"
      }
     },
     "output_type": "display_data"
    }
   ],
   "source": [
    "show(plot_tsne)"
   ]
  },
  {
   "cell_type": "markdown",
   "metadata": {},
   "source": [
    "Bokeh is a great library for interactive visualizations! It offers us a lot of flexibility to generate visualizations for ourselves or for stakeholders. While knowing Javascript is helpful, the [Bokeh gallery](https://bokeh.pydata.org/en/latest/docs/gallery.html) and the [Bokeh reference guide](https://bokeh.pydata.org/en/latest/docs/reference.html) are very helpful to those of us who don't know JavaScript.\n",
    "\n",
    "It also works really well with other packages, including NetworkX!"
   ]
  },
  {
   "cell_type": "markdown",
   "metadata": {},
   "source": [
    "**Problem 7:** Go through the next cell and comment each line. What does each line appear to be doing?"
   ]
  },
  {
   "cell_type": "code",
   "execution_count": 62,
   "metadata": {},
   "outputs": [
    {
     "data": {
      "text/html": [
       "\n",
       "<div class=\"bk-root\">\n",
       "    <div class=\"bk-plotdiv\" id=\"c6a9c08b-0619-4014-b58e-1400e8793870\"></div>\n",
       "</div>"
      ]
     },
     "metadata": {},
     "output_type": "display_data"
    },
    {
     "data": {
      "application/javascript": [
       "(function(root) {\n",
       "  function embed_document(root) {\n",
       "    \n",
       "  var docs_json = {\"0b4bdf3e-3d55-4983-af57-7200455d051b\":{\"roots\":{\"references\":[{\"attributes\":{\"dimension\":1,\"plot\":{\"id\":\"d8b1a7c4-44d9-4d48-9bd0-115a04cd2ba4\",\"subtype\":\"Figure\",\"type\":\"Plot\"},\"ticker\":{\"id\":\"c8f17d75-09ee-451d-92a4-7ff313ab375d\",\"type\":\"BasicTicker\"}},\"id\":\"b3e72f46-0913-4b7f-8ac5-46a586e31989\",\"type\":\"Grid\"},{\"attributes\":{\"active_drag\":\"auto\",\"active_inspect\":\"auto\",\"active_scroll\":\"auto\",\"active_tap\":\"auto\"},\"id\":\"68bf6e7f-b595-44e2-a398-112e07f4e293\",\"type\":\"Toolbar\"},{\"attributes\":{},\"id\":\"05cf2ecc-6ddb-443d-9a91-c29b8e571eb3\",\"type\":\"BasicTickFormatter\"},{\"attributes\":{\"formatter\":{\"id\":\"05cf2ecc-6ddb-443d-9a91-c29b8e571eb3\",\"type\":\"BasicTickFormatter\"},\"plot\":{\"id\":\"d8b1a7c4-44d9-4d48-9bd0-115a04cd2ba4\",\"subtype\":\"Figure\",\"type\":\"Plot\"},\"ticker\":{\"id\":\"40aa7f59-dc57-4ac3-aa15-9498a9d6fa0c\",\"type\":\"BasicTicker\"}},\"id\":\"4117824c-ac5f-444f-aac3-393bd1bc1142\",\"type\":\"LinearAxis\"},{\"attributes\":{\"edge_renderer\":{\"id\":\"a55e8e62-3b9e-442c-b7e7-c3f6c6464ef7\",\"type\":\"GlyphRenderer\"},\"inspection_policy\":{\"id\":\"96cb9c98-46e1-4422-87c7-deba20067698\",\"type\":\"NodesOnly\"},\"layout_provider\":{\"id\":\"aaf79b34-2098-4613-9da0-22ae12f8d518\",\"type\":\"StaticLayoutProvider\"},\"node_renderer\":{\"id\":\"1d30686e-3259-4209-867c-a27dc0bc2896\",\"type\":\"GlyphRenderer\"},\"selection_policy\":{\"id\":\"b9682bf6-dec5-41d3-acd3-a41c63aff98b\",\"type\":\"NodesOnly\"}},\"id\":\"b48df41a-5aa6-4f57-8711-fbacf2c8746f\",\"type\":\"GraphRenderer\"},{\"attributes\":{\"callback\":null,\"end\":1.1,\"start\":-1.1},\"id\":\"edae697f-5bc0-4c3a-a091-88f6359ca4fb\",\"type\":\"Range1d\"},{\"attributes\":{},\"id\":\"bb026048-8fa6-494a-8bda-9d6006c8688a\",\"type\":\"Circle\"},{\"attributes\":{\"callback\":null,\"column_names\":[\"index\"],\"data\":{\"index\":[0,1,2,3,4,5,6,7,8,9,10,11,12,13,14,15,16,17,18,19,20,21,22,23,24,25,26,27,28,29,30,31,32,33]}},\"id\":\"ae3f8094-4246-43bd-84f3-cc95f678252b\",\"type\":\"ColumnDataSource\"},{\"attributes\":{\"callback\":null,\"end\":1.1,\"start\":-1.1},\"id\":\"c976d190-21b2-44a2-85b4-4c912776bd18\",\"type\":\"Range1d\"},{\"attributes\":{\"data_source\":{\"id\":\"ae3f8094-4246-43bd-84f3-cc95f678252b\",\"type\":\"ColumnDataSource\"},\"glyph\":{\"id\":\"bb026048-8fa6-494a-8bda-9d6006c8688a\",\"type\":\"Circle\"},\"hover_glyph\":null,\"muted_glyph\":null,\"view\":{\"id\":\"1d8c8923-0e56-4a79-9031-6692aca8cb3b\",\"type\":\"CDSView\"}},\"id\":\"1d30686e-3259-4209-867c-a27dc0bc2896\",\"type\":\"GlyphRenderer\"},{\"attributes\":{\"plot\":{\"id\":\"d8b1a7c4-44d9-4d48-9bd0-115a04cd2ba4\",\"subtype\":\"Figure\",\"type\":\"Plot\"},\"ticker\":{\"id\":\"40aa7f59-dc57-4ac3-aa15-9498a9d6fa0c\",\"type\":\"BasicTicker\"}},\"id\":\"b43bba4a-6da2-4b53-93cc-840e876b7ddf\",\"type\":\"Grid\"},{\"attributes\":{\"below\":[{\"id\":\"4117824c-ac5f-444f-aac3-393bd1bc1142\",\"type\":\"LinearAxis\"}],\"left\":[{\"id\":\"cae90a73-29f5-4b7c-a952-6ee3271d7067\",\"type\":\"LinearAxis\"}],\"renderers\":[{\"id\":\"4117824c-ac5f-444f-aac3-393bd1bc1142\",\"type\":\"LinearAxis\"},{\"id\":\"b43bba4a-6da2-4b53-93cc-840e876b7ddf\",\"type\":\"Grid\"},{\"id\":\"cae90a73-29f5-4b7c-a952-6ee3271d7067\",\"type\":\"LinearAxis\"},{\"id\":\"b3e72f46-0913-4b7f-8ac5-46a586e31989\",\"type\":\"Grid\"},{\"id\":\"b48df41a-5aa6-4f57-8711-fbacf2c8746f\",\"type\":\"GraphRenderer\"}],\"title\":{\"id\":\"9d353fc7-24d7-4601-b2af-845fa2be03e6\",\"type\":\"Title\"},\"toolbar\":{\"id\":\"68bf6e7f-b595-44e2-a398-112e07f4e293\",\"type\":\"Toolbar\"},\"toolbar_location\":null,\"x_range\":{\"id\":\"edae697f-5bc0-4c3a-a091-88f6359ca4fb\",\"type\":\"Range1d\"},\"x_scale\":{\"id\":\"8fae5494-13e4-42f7-8e40-68836242a288\",\"type\":\"LinearScale\"},\"y_range\":{\"id\":\"c976d190-21b2-44a2-85b4-4c912776bd18\",\"type\":\"Range1d\"},\"y_scale\":{\"id\":\"b18610af-6d2d-4a04-b2bb-00e635c198d2\",\"type\":\"LinearScale\"}},\"id\":\"d8b1a7c4-44d9-4d48-9bd0-115a04cd2ba4\",\"subtype\":\"Figure\",\"type\":\"Plot\"},{\"attributes\":{\"source\":{\"id\":\"ae3f8094-4246-43bd-84f3-cc95f678252b\",\"type\":\"ColumnDataSource\"}},\"id\":\"1d8c8923-0e56-4a79-9031-6692aca8cb3b\",\"type\":\"CDSView\"},{\"attributes\":{},\"id\":\"bf870423-31f6-41cb-a14b-c49ff7aacbe8\",\"type\":\"MultiLine\"},{\"attributes\":{\"callback\":null,\"column_names\":[\"start\",\"end\"],\"data\":{\"end\":[1,2,3,4,5,6,7,8,10,11,12,13,17,19,21,31,2,3,7,13,17,19,21,30,3,7,8,9,13,27,28,32,7,12,13,6,10,6,10,16,16,30,32,33,33,33,32,33,32,33,32,33,33,32,33,32,33,25,27,29,32,33,25,27,31,31,29,33,33,31,33,32,33,32,33,32,33,33],\"start\":[0,0,0,0,0,0,0,0,0,0,0,0,0,0,0,0,1,1,1,1,1,1,1,1,2,2,2,2,2,2,2,2,3,3,3,4,4,5,5,5,6,8,8,8,9,13,14,14,15,15,18,18,19,20,20,22,22,23,23,23,23,23,24,24,24,25,26,26,27,28,28,29,29,30,30,31,31,32]}},\"id\":\"a5edf580-ac37-416e-a370-0c4da9adbf70\",\"type\":\"ColumnDataSource\"},{\"attributes\":{\"data_source\":{\"id\":\"a5edf580-ac37-416e-a370-0c4da9adbf70\",\"type\":\"ColumnDataSource\"},\"glyph\":{\"id\":\"bf870423-31f6-41cb-a14b-c49ff7aacbe8\",\"type\":\"MultiLine\"},\"hover_glyph\":null,\"muted_glyph\":null,\"view\":{\"id\":\"27d272f0-c6a3-46ef-9f7a-c0a6e45cfb83\",\"type\":\"CDSView\"}},\"id\":\"a55e8e62-3b9e-442c-b7e7-c3f6c6464ef7\",\"type\":\"GlyphRenderer\"},{\"attributes\":{},\"id\":\"b9682bf6-dec5-41d3-acd3-a41c63aff98b\",\"type\":\"NodesOnly\"},{\"attributes\":{\"source\":{\"id\":\"a5edf580-ac37-416e-a370-0c4da9adbf70\",\"type\":\"ColumnDataSource\"}},\"id\":\"27d272f0-c6a3-46ef-9f7a-c0a6e45cfb83\",\"type\":\"CDSView\"},{\"attributes\":{\"plot\":null,\"text\":\"Networkx Integration Demonstration\"},\"id\":\"9d353fc7-24d7-4601-b2af-845fa2be03e6\",\"type\":\"Title\"},{\"attributes\":{\"graph_layout\":{\"0\":[0.713017594048412,-0.12262564441988182],\"1\":[0.44508278685924957,0.07880419950908175],\"10\":[1.1600312293890138,-0.6976735788114573],\"11\":[1.4701534643568823,0.13093364879018826],\"12\":[1.099672213673591,0.45359443479235145],\"13\":[0.19567337006896082,0.2560790527889174],\"14\":[-0.8057880916896781,0.7862958120023262],\"15\":[-1.2477333453719794,0.44665952371112083],\"16\":[2.0,-0.7425082157241065],\"17\":[1.0380014310287773,0.10984933653846823],\"18\":[-1.0172798171882607,0.7388173109848574],\"19\":[0.10525705356405207,-0.15074461431714456],\"2\":[0.008504381058626715,0.17617910704600026],\"20\":[-1.205536251248145,0.6351004584299746],\"21\":[0.724310356920032,-0.46461342156762814],\"22\":[-1.2871462469408992,0.24483414686189967],\"23\":[-0.9800560492894322,-0.3054173167659028],\"24\":[-0.8489852189889097,-0.7694888612676037],\"25\":[-0.7243728544617631,-0.8744061070902687],\"26\":[-1.5060592469276788,-0.004348778890805655],\"27\":[-0.6380058332831988,-0.3171175870786938],\"28\":[-0.41894105088640515,-0.09381058772011326],\"29\":[-1.2139875142043832,-0.05292921438746715],\"3\":[0.6414319621549189,0.30969341954838825],\"30\":[-0.24795358624236338,0.37024711276005173],\"31\":[-0.3404896688386023,-0.35574861628469523],\"32\":[-0.7757033633531738,0.26553545391331657],\"33\":[-0.6870457254212643,0.18603547031279316],\"4\":[1.275725215434804,-0.42044860332507017],\"5\":[1.4717984350195286,-0.6360102373157921],\"6\":[1.5578154360109595,-0.4130775953074907],\"7\":[0.5291260788015598,0.4320533976520325],\"8\":[-0.154503859877414,0.10525847125769269],\"9\":[-0.3360132841758152,0.6949986233746582]}},\"id\":\"aaf79b34-2098-4613-9da0-22ae12f8d518\",\"type\":\"StaticLayoutProvider\"},{\"attributes\":{},\"id\":\"b18610af-6d2d-4a04-b2bb-00e635c198d2\",\"type\":\"LinearScale\"},{\"attributes\":{},\"id\":\"04439fd4-27c5-4419-9b61-931f9902c6bb\",\"type\":\"BasicTickFormatter\"},{\"attributes\":{},\"id\":\"96cb9c98-46e1-4422-87c7-deba20067698\",\"type\":\"NodesOnly\"},{\"attributes\":{},\"id\":\"40aa7f59-dc57-4ac3-aa15-9498a9d6fa0c\",\"type\":\"BasicTicker\"},{\"attributes\":{\"formatter\":{\"id\":\"04439fd4-27c5-4419-9b61-931f9902c6bb\",\"type\":\"BasicTickFormatter\"},\"plot\":{\"id\":\"d8b1a7c4-44d9-4d48-9bd0-115a04cd2ba4\",\"subtype\":\"Figure\",\"type\":\"Plot\"},\"ticker\":{\"id\":\"c8f17d75-09ee-451d-92a4-7ff313ab375d\",\"type\":\"BasicTicker\"}},\"id\":\"cae90a73-29f5-4b7c-a952-6ee3271d7067\",\"type\":\"LinearAxis\"},{\"attributes\":{},\"id\":\"8fae5494-13e4-42f7-8e40-68836242a288\",\"type\":\"LinearScale\"},{\"attributes\":{},\"id\":\"c8f17d75-09ee-451d-92a4-7ff313ab375d\",\"type\":\"BasicTicker\"}],\"root_ids\":[\"d8b1a7c4-44d9-4d48-9bd0-115a04cd2ba4\"]},\"title\":\"Bokeh Application\",\"version\":\"0.12.13\"}};\n",
       "  var render_items = [{\"docid\":\"0b4bdf3e-3d55-4983-af57-7200455d051b\",\"elementid\":\"c6a9c08b-0619-4014-b58e-1400e8793870\",\"modelid\":\"d8b1a7c4-44d9-4d48-9bd0-115a04cd2ba4\"}];\n",
       "  root.Bokeh.embed.embed_items_notebook(docs_json, render_items);\n",
       "\n",
       "  }\n",
       "  if (root.Bokeh !== undefined) {\n",
       "    embed_document(root);\n",
       "  } else {\n",
       "    var attempts = 0;\n",
       "    var timer = setInterval(function(root) {\n",
       "      if (root.Bokeh !== undefined) {\n",
       "        embed_document(root);\n",
       "        clearInterval(timer);\n",
       "      }\n",
       "      attempts++;\n",
       "      if (attempts > 100) {\n",
       "        console.log(\"Bokeh: ERROR: Unable to run BokehJS code because BokehJS library is missing\")\n",
       "        clearInterval(timer);\n",
       "      }\n",
       "    }, 10, root)\n",
       "  }\n",
       "})(window);"
      ],
      "application/vnd.bokehjs_exec.v0+json": ""
     },
     "metadata": {
      "application/vnd.bokehjs_exec.v0+json": {
       "id": "d8b1a7c4-44d9-4d48-9bd0-115a04cd2ba4"
      }
     },
     "output_type": "display_data"
    }
   ],
   "source": [
    "import networkx as nx\n",
    "\n",
    "from bokeh.io import show, output_file\n",
    "from bokeh.plotting import figure\n",
    "from bokeh.models.graphs import from_networkx\n",
    "\n",
    "G=nx.karate_club_graph()\n",
    "\n",
    "plot = figure(title=\"Networkx Integration Demonstration\", x_range=(-1.1,1.1), y_range=(-1.1,1.1),\n",
    "              tools=\"\", toolbar_location=None)\n",
    "\n",
    "graph = from_networkx(G, nx.spring_layout, scale=2, center=(0,0))\n",
    "plot.renderers.append(graph)\n",
    "\n",
    "output_file(\"networkx_graph.html\")\n",
    "show(plot)"
   ]
  },
  {
   "cell_type": "markdown",
   "metadata": {},
   "source": [
    "**Problem 8:** Run the next cell. What are the benefits to having a visualization like this?"
   ]
  },
  {
   "cell_type": "code",
   "execution_count": 63,
   "metadata": {
    "scrolled": true
   },
   "outputs": [
    {
     "data": {
      "text/html": [
       "\n",
       "<div class=\"bk-root\">\n",
       "    <div class=\"bk-plotdiv\" id=\"7b2ca8ea-10f3-435b-a830-f682a90bd97c\"></div>\n",
       "</div>"
      ]
     },
     "metadata": {},
     "output_type": "display_data"
    },
    {
     "data": {
      "application/javascript": [
       "(function(root) {\n",
       "  function embed_document(root) {\n",
       "    \n",
       "  var docs_json = {\"67f59091-a816-4f72-a2b4-4bddc0797934\":{\"roots\":{\"references\":[{\"attributes\":{\"source\":{\"id\":\"843d57de-f4fc-4bef-bf61-45520b634c07\",\"type\":\"ColumnDataSource\"}},\"id\":\"1c085348-c522-4690-8fca-c09392532371\",\"type\":\"CDSView\"},{\"attributes\":{\"plot\":null,\"text\":\"Graph Interaction Demonstration\"},\"id\":\"038e2c37-3372-488b-af34-1d3556919e88\",\"type\":\"Title\"},{\"attributes\":{\"fill_color\":{\"value\":\"#fdae61\"},\"size\":{\"units\":\"screen\",\"value\":15}},\"id\":\"5ae2a947-86f1-4ba5-8299-a8e0723f283c\",\"type\":\"Circle\"},{\"attributes\":{\"fill_color\":{\"value\":\"#abdda4\"},\"size\":{\"units\":\"screen\",\"value\":15}},\"id\":\"fa2524f2-0230-484f-b93a-d8e0b7e3451b\",\"type\":\"Circle\"},{\"attributes\":{},\"id\":\"0a2c7de1-7d88-4996-ab22-2c1d2b200f29\",\"type\":\"EdgesAndLinkedNodes\"},{\"attributes\":{\"fill_color\":{\"value\":\"#2b83ba\"},\"size\":{\"units\":\"screen\",\"value\":15}},\"id\":\"ccac1eac-9814-4e60-a197-f1f5e5ae7ce7\",\"type\":\"Circle\"},{\"attributes\":{\"callback\":null,\"end\":1.1,\"start\":-1.1},\"id\":\"759a9b96-7500-45de-b888-36b9d4396b8e\",\"type\":\"Range1d\"},{\"attributes\":{\"source\":{\"id\":\"e88c620f-6861-4dbb-a586-e7421355c125\",\"type\":\"ColumnDataSource\"}},\"id\":\"75247331-deb7-4e26-b436-55e94cd9a0fa\",\"type\":\"CDSView\"},{\"attributes\":{},\"id\":\"188c51fd-107d-454c-8643-b52f48ed148e\",\"type\":\"NodesAndLinkedEdges\"},{\"attributes\":{\"data_source\":{\"id\":\"843d57de-f4fc-4bef-bf61-45520b634c07\",\"type\":\"ColumnDataSource\"},\"glyph\":{\"id\":\"3e217f18-4a47-404b-9b5d-1edde6e613f2\",\"type\":\"MultiLine\"},\"hover_glyph\":{\"id\":\"cb3d5f4e-3963-439c-b2d1-922215014897\",\"type\":\"MultiLine\"},\"muted_glyph\":null,\"selection_glyph\":{\"id\":\"470056fd-bd38-4455-97d5-ca48b81ef77d\",\"type\":\"MultiLine\"},\"view\":{\"id\":\"1c085348-c522-4690-8fca-c09392532371\",\"type\":\"CDSView\"}},\"id\":\"c92884b8-799f-4747-90a9-0985def9212d\",\"type\":\"GlyphRenderer\"},{\"attributes\":{\"callback\":null,\"tooltips\":null},\"id\":\"3ee5a49d-fb7f-401a-a038-60f593bd6b34\",\"type\":\"HoverTool\"},{\"attributes\":{\"callback\":null,\"overlay\":{\"id\":\"d2671160-369d-4210-b224-2ea3e9ee3348\",\"type\":\"BoxAnnotation\"}},\"id\":\"67ab042f-6031-4b7a-b2b9-62d755baac1e\",\"type\":\"BoxSelectTool\"},{\"attributes\":{\"graph_layout\":{\"0\":[1.0,5.200874811222461e-09],\"1\":[0.9829730987698075,0.18374951687777052],\"10\":[-0.2736629534524478,0.9618256731695953],\"11\":[-0.4457383143150295,0.8951633020694276],\"12\":[-0.6026346669454482,0.7980172083092125],\"13\":[-0.7390088423744644,0.6736956880896635],\"14\":[-0.8502171619409874,0.5264321613022418],\"15\":[-0.9324721677053746,0.3612417925562752],\"16\":[-0.9829730970167299,0.1837495317789317],\"17\":[-0.9999999982469223,-8.222190168562394e-08],\"18\":[-0.9829730970167299,-0.18374946177253734],\"19\":[-0.9324722273100193,-0.36124172254988085],\"2\":[0.932472229063097,0.36124167334698576],\"20\":[-0.8502171619409874,-0.5264320912958473],\"21\":[-0.7390089019791091,-0.6736956776879138],\"22\":[-0.6026347265500929,-0.7980171383028182],\"23\":[-0.44573837391967425,-0.895163291667678],\"24\":[-0.27366289384780307,-0.9618256627678456],\"25\":[-0.0922681605182429,-0.9957342087090403],\"26\":[0.09226818462306245,-0.9957342087090403],\"27\":[0.27366292540320325,-0.9618256627678456],\"28\":[0.44573837567275204,-0.895163291667678],\"29\":[0.6026347283031706,-0.7980171383028182],\"3\":[0.8502171040894204,0.5264321613022418],\"30\":[0.7390087845228973,-0.6736957968972033],\"31\":[0.8502170444847756,-0.5264322701097816],\"32\":[0.932472229063097,-0.36124169274755846],\"33\":[0.9829730987698075,-0.18374944687137618],\"4\":[0.7390089037321868,0.6736956284850187],\"5\":[0.6026346686985259,0.7980172083092125],\"6\":[0.4457383458704297,0.8951633020694276],\"7\":[0.27366298500784797,0.9618256731695953],\"8\":[0.09226837088757722,0.9957341595061452],\"9\":[-0.09226833188159647,0.9957341595061452]}},\"id\":\"6f4384b8-5d5e-4b13-a3f2-0b5db9a7bde1\",\"type\":\"StaticLayoutProvider\"},{\"attributes\":{\"line_color\":{\"value\":\"#abdda4\"},\"line_width\":{\"value\":5}},\"id\":\"cb3d5f4e-3963-439c-b2d1-922215014897\",\"type\":\"MultiLine\"},{\"attributes\":{\"data_source\":{\"id\":\"e88c620f-6861-4dbb-a586-e7421355c125\",\"type\":\"ColumnDataSource\"},\"glyph\":{\"id\":\"ccac1eac-9814-4e60-a197-f1f5e5ae7ce7\",\"type\":\"Circle\"},\"hover_glyph\":{\"id\":\"fa2524f2-0230-484f-b93a-d8e0b7e3451b\",\"type\":\"Circle\"},\"muted_glyph\":null,\"selection_glyph\":{\"id\":\"5ae2a947-86f1-4ba5-8299-a8e0723f283c\",\"type\":\"Circle\"},\"view\":{\"id\":\"75247331-deb7-4e26-b436-55e94cd9a0fa\",\"type\":\"CDSView\"}},\"id\":\"bb86e5a0-7acd-428c-8286-4b35ee1493a8\",\"type\":\"GlyphRenderer\"},{\"attributes\":{},\"id\":\"0684d93b-8fd6-48b3-b526-f92c89b3b230\",\"type\":\"LinearScale\"},{\"attributes\":{\"callback\":null},\"id\":\"f3071de5-5926-44db-b591-4fb976db8639\",\"type\":\"TapTool\"},{\"attributes\":{\"line_color\":{\"value\":\"#fdae61\"},\"line_width\":{\"value\":5}},\"id\":\"470056fd-bd38-4455-97d5-ca48b81ef77d\",\"type\":\"MultiLine\"},{\"attributes\":{},\"id\":\"e7d17c77-6e5b-45a9-91b1-56e89f4d70e9\",\"type\":\"LinearScale\"},{\"attributes\":{\"callback\":null,\"column_names\":[\"start\",\"end\"],\"data\":{\"end\":[1,2,3,4,5,6,7,8,10,11,12,13,17,19,21,31,2,3,7,13,17,19,21,30,3,7,8,9,13,27,28,32,7,12,13,6,10,6,10,16,16,30,32,33,33,33,32,33,32,33,32,33,33,32,33,32,33,25,27,29,32,33,25,27,31,31,29,33,33,31,33,32,33,32,33,32,33,33],\"start\":[0,0,0,0,0,0,0,0,0,0,0,0,0,0,0,0,1,1,1,1,1,1,1,1,2,2,2,2,2,2,2,2,3,3,3,4,4,5,5,5,6,8,8,8,9,13,14,14,15,15,18,18,19,20,20,22,22,23,23,23,23,23,24,24,24,25,26,26,27,28,28,29,29,30,30,31,31,32]}},\"id\":\"843d57de-f4fc-4bef-bf61-45520b634c07\",\"type\":\"ColumnDataSource\"},{\"attributes\":{\"active_drag\":\"auto\",\"active_inspect\":\"auto\",\"active_scroll\":\"auto\",\"active_tap\":\"auto\",\"tools\":[{\"id\":\"3ee5a49d-fb7f-401a-a038-60f593bd6b34\",\"type\":\"HoverTool\"},{\"id\":\"f3071de5-5926-44db-b591-4fb976db8639\",\"type\":\"TapTool\"},{\"id\":\"67ab042f-6031-4b7a-b2b9-62d755baac1e\",\"type\":\"BoxSelectTool\"}]},\"id\":\"3ff3bff7-333d-49bc-960b-bfd75a464319\",\"type\":\"Toolbar\"},{\"attributes\":{\"line_alpha\":{\"value\":0.8},\"line_color\":{\"value\":\"#CCCCCC\"},\"line_width\":{\"value\":5}},\"id\":\"3e217f18-4a47-404b-9b5d-1edde6e613f2\",\"type\":\"MultiLine\"},{\"attributes\":{\"callback\":null,\"end\":1.1,\"start\":-1.1},\"id\":\"30fbbc4b-5598-407f-a2ae-67709c470122\",\"type\":\"Range1d\"},{\"attributes\":{\"callback\":null,\"column_names\":[\"index\"],\"data\":{\"index\":[0,1,2,3,4,5,6,7,8,9,10,11,12,13,14,15,16,17,18,19,20,21,22,23,24,25,26,27,28,29,30,31,32,33]}},\"id\":\"e88c620f-6861-4dbb-a586-e7421355c125\",\"type\":\"ColumnDataSource\"},{\"attributes\":{\"plot_height\":400,\"plot_width\":400,\"renderers\":[{\"id\":\"d2671160-369d-4210-b224-2ea3e9ee3348\",\"type\":\"BoxAnnotation\"},{\"id\":\"9bd65159-b01d-44e5-89a4-14f5bb85293c\",\"type\":\"GraphRenderer\"}],\"title\":{\"id\":\"038e2c37-3372-488b-af34-1d3556919e88\",\"type\":\"Title\"},\"toolbar\":{\"id\":\"3ff3bff7-333d-49bc-960b-bfd75a464319\",\"type\":\"Toolbar\"},\"x_range\":{\"id\":\"30fbbc4b-5598-407f-a2ae-67709c470122\",\"type\":\"Range1d\"},\"x_scale\":{\"id\":\"e7d17c77-6e5b-45a9-91b1-56e89f4d70e9\",\"type\":\"LinearScale\"},\"y_range\":{\"id\":\"759a9b96-7500-45de-b888-36b9d4396b8e\",\"type\":\"Range1d\"},\"y_scale\":{\"id\":\"0684d93b-8fd6-48b3-b526-f92c89b3b230\",\"type\":\"LinearScale\"}},\"id\":\"e8f08819-f91f-4ce1-9de4-6d7d1f24988f\",\"type\":\"Plot\"},{\"attributes\":{\"bottom_units\":\"screen\",\"fill_alpha\":{\"value\":0.5},\"fill_color\":{\"value\":\"lightgrey\"},\"left_units\":\"screen\",\"level\":\"overlay\",\"line_alpha\":{\"value\":1.0},\"line_color\":{\"value\":\"black\"},\"line_dash\":[4,4],\"line_width\":{\"value\":2},\"plot\":null,\"render_mode\":\"css\",\"right_units\":\"screen\",\"top_units\":\"screen\"},\"id\":\"d2671160-369d-4210-b224-2ea3e9ee3348\",\"type\":\"BoxAnnotation\"},{\"attributes\":{\"edge_renderer\":{\"id\":\"c92884b8-799f-4747-90a9-0985def9212d\",\"type\":\"GlyphRenderer\"},\"inspection_policy\":{\"id\":\"0a2c7de1-7d88-4996-ab22-2c1d2b200f29\",\"type\":\"EdgesAndLinkedNodes\"},\"layout_provider\":{\"id\":\"6f4384b8-5d5e-4b13-a3f2-0b5db9a7bde1\",\"type\":\"StaticLayoutProvider\"},\"node_renderer\":{\"id\":\"bb86e5a0-7acd-428c-8286-4b35ee1493a8\",\"type\":\"GlyphRenderer\"},\"selection_policy\":{\"id\":\"188c51fd-107d-454c-8643-b52f48ed148e\",\"type\":\"NodesAndLinkedEdges\"}},\"id\":\"9bd65159-b01d-44e5-89a4-14f5bb85293c\",\"type\":\"GraphRenderer\"}],\"root_ids\":[\"e8f08819-f91f-4ce1-9de4-6d7d1f24988f\"]},\"title\":\"Bokeh Application\",\"version\":\"0.12.13\"}};\n",
       "  var render_items = [{\"docid\":\"67f59091-a816-4f72-a2b4-4bddc0797934\",\"elementid\":\"7b2ca8ea-10f3-435b-a830-f682a90bd97c\",\"modelid\":\"e8f08819-f91f-4ce1-9de4-6d7d1f24988f\"}];\n",
       "  root.Bokeh.embed.embed_items_notebook(docs_json, render_items);\n",
       "\n",
       "  }\n",
       "  if (root.Bokeh !== undefined) {\n",
       "    embed_document(root);\n",
       "  } else {\n",
       "    var attempts = 0;\n",
       "    var timer = setInterval(function(root) {\n",
       "      if (root.Bokeh !== undefined) {\n",
       "        embed_document(root);\n",
       "        clearInterval(timer);\n",
       "      }\n",
       "      attempts++;\n",
       "      if (attempts > 100) {\n",
       "        console.log(\"Bokeh: ERROR: Unable to run BokehJS code because BokehJS library is missing\")\n",
       "        clearInterval(timer);\n",
       "      }\n",
       "    }, 10, root)\n",
       "  }\n",
       "})(window);"
      ],
      "application/vnd.bokehjs_exec.v0+json": ""
     },
     "metadata": {
      "application/vnd.bokehjs_exec.v0+json": {
       "id": "e8f08819-f91f-4ce1-9de4-6d7d1f24988f"
      }
     },
     "output_type": "display_data"
    }
   ],
   "source": [
    "import networkx as nx\n",
    "\n",
    "from bokeh.io import show, output_file\n",
    "from bokeh.models import Plot, Range1d, MultiLine, Circle, HoverTool, TapTool, BoxSelectTool\n",
    "from bokeh.models.graphs import from_networkx, NodesAndLinkedEdges, EdgesAndLinkedNodes\n",
    "from bokeh.palettes import Spectral4\n",
    "\n",
    "G=nx.karate_club_graph()\n",
    "\n",
    "plot = Plot(plot_width=400, plot_height=400,\n",
    "            x_range=Range1d(-1.1,1.1), y_range=Range1d(-1.1,1.1))\n",
    "plot.title.text = \"Graph Interaction Demonstration\"\n",
    "\n",
    "plot.add_tools(HoverTool(tooltips=None), TapTool(), BoxSelectTool())\n",
    "\n",
    "graph_renderer = from_networkx(G, nx.circular_layout, scale=1, center=(0,0))\n",
    "\n",
    "graph_renderer.node_renderer.glyph = Circle(size=15, fill_color=Spectral4[0])\n",
    "graph_renderer.node_renderer.selection_glyph = Circle(size=15, fill_color=Spectral4[2])\n",
    "graph_renderer.node_renderer.hover_glyph = Circle(size=15, fill_color=Spectral4[1])\n",
    "\n",
    "graph_renderer.edge_renderer.glyph = MultiLine(line_color=\"#CCCCCC\", line_alpha=0.8, line_width=5)\n",
    "graph_renderer.edge_renderer.selection_glyph = MultiLine(line_color=Spectral4[2], line_width=5)\n",
    "graph_renderer.edge_renderer.hover_glyph = MultiLine(line_color=Spectral4[1], line_width=5)\n",
    "\n",
    "graph_renderer.selection_policy = NodesAndLinkedEdges()\n",
    "graph_renderer.inspection_policy = EdgesAndLinkedNodes()\n",
    "\n",
    "plot.renderers.append(graph_renderer)\n",
    "\n",
    "output_file(\"interactive_graphs.html\")\n",
    "show(plot)"
   ]
  },
  {
   "cell_type": "markdown",
   "metadata": {},
   "source": [
    "**Answer:**"
   ]
  },
  {
   "cell_type": "markdown",
   "metadata": {},
   "source": [
    "**Problem 9:** Referring to the previous cell, what might be a case when the previous visualization is not helpful?"
   ]
  },
  {
   "cell_type": "markdown",
   "metadata": {},
   "source": [
    "**Answer:**"
   ]
  },
  {
   "cell_type": "markdown",
   "metadata": {},
   "source": [
    "**Problem 10:** Create at least two more interactive graphs in Bokeh. They can be networks, topic models, or something else... perhaps related to your upcoming project??"
   ]
  },
  {
   "cell_type": "markdown",
   "metadata": {},
   "source": [
    "**Answer:**"
   ]
  }
 ],
 "metadata": {
  "kernelspec": {
   "display_name": "Python 3",
   "language": "python",
   "name": "python3"
  },
  "language_info": {
   "codemirror_mode": {
    "name": "ipython",
    "version": 3
   },
   "file_extension": ".py",
   "mimetype": "text/x-python",
   "name": "python",
   "nbconvert_exporter": "python",
   "pygments_lexer": "ipython3",
   "version": "3.6.3"
  },
  "toc": {
   "nav_menu": {},
   "number_sections": true,
   "sideBar": true,
   "skip_h1_title": false,
   "title_cell": "Table of Contents",
   "title_sidebar": "Contents",
   "toc_cell": false,
   "toc_position": {},
   "toc_section_display": true,
   "toc_window_display": false
  }
 },
 "nbformat": 4,
 "nbformat_minor": 2
}
