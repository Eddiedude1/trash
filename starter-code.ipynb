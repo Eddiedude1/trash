{
 "cells": [
  {
   "cell_type": "markdown",
   "metadata": {
    "ExecuteTime": {
     "end_time": "2018-03-12T16:08:05.487728Z",
     "start_time": "2018-03-12T16:08:05.476198Z"
    }
   },
   "source": [
    "<img src=\"http://imgur.com/1ZcRyrc.png\" style=\"float: left; margin: 20px; height: 55px\">\n",
    "\n",
    "# Bayes I Lab\n",
    "\n",
    "_Authors: Matt Brems, Ben Shaver (DC)_\n",
    "\n",
    "---\n"
   ]
  },
  {
   "cell_type": "markdown",
   "metadata": {},
   "source": [
    "# Lab Part I\n",
    "\n",
    "Watch [this video](https://www.youtube.com/watch?v=5NMxiOGL39M&t=13m2s) from 13:02 to 23:10."
   ]
  },
  {
   "cell_type": "markdown",
   "metadata": {},
   "source": [
    "**Question 1-a:** In the dog weighing example, how would you summarize the prior?"
   ]
  },
  {
   "cell_type": "code",
   "execution_count": null,
   "metadata": {
    "collapsed": true
   },
   "outputs": [],
   "source": [
    "What he thought the dog weighed before he weighed it"
   ]
  },
  {
   "cell_type": "markdown",
   "metadata": {},
   "source": [
    "**Question 1-b:** In the dog weighing example, how would you summarize the likelihood?"
   ]
  },
  {
   "cell_type": "code",
   "execution_count": null,
   "metadata": {
    "collapsed": true
   },
   "outputs": [],
   "source": [
    "Probability of the new measurement being true"
   ]
  },
  {
   "cell_type": "markdown",
   "metadata": {},
   "source": [
    "**Question 1-c:** In the dog weighing example, how would you summarize the posterior?"
   ]
  },
  {
   "cell_type": "code",
   "execution_count": null,
   "metadata": {
    "collapsed": true
   },
   "outputs": [],
   "source": [
    "Updated belief, or the likelihood times the prior"
   ]
  },
  {
   "cell_type": "markdown",
   "metadata": {},
   "source": [
    "# Lab Part II\n",
    "\n",
    "##### Suppose you find a coin on the ground. Denote the probability of flipping heads with $p$."
   ]
  },
  {
   "cell_type": "markdown",
   "metadata": {},
   "source": [
    "**Question 2-a:** Recall that a **distribution** is the set of all possible values of a variable and how frequently we observe each of the values. \n",
    "\n",
    "We want to construct a **prior distribution** for $p$. This prior distribution should summarize our beliefs about $p$ before seeing any data. If we know that $p$ must be between 0 and 1, then we should construct a prior distribution that reflects this knowledge. \n",
    "\n",
    "You and I have pretty strong beliefs that $p$, the probability of flipping heads, should be 0.5. It's possible that $p$ might be a bit less than 0.5 or a bit more than 0.5.\n",
    "\n",
    "A very convenient distribution for this type of problem is called the **Beta distribution**. The [Beta distribution](https://en.wikipedia.org/wiki/Beta_distribution) is continuously defined between 0 and 1. Because of this quality (and for other reasons), we often use the Beta distribution when trying to describe our beliefs about probabilities.\n",
    "\n",
    "Run the cells below. Here, we're plotting a Beta distribution with parameters $\\alpha = 100$ and $\\beta = 100$. (The Beta distribution is parameterized by $\\alpha$ and $\\beta$, much like the Normal distribution is parameterized by $\\mu$ and $\\sigma$.) In code, however, we often use `a` and `b` because alpha is such a common argument in functions."
   ]
  },
  {
   "cell_type": "code",
   "execution_count": 147,
   "metadata": {
    "ExecuteTime": {
     "end_time": "2018-03-12T17:37:21.138776Z",
     "start_time": "2018-03-12T17:37:17.086690Z"
    }
   },
   "outputs": [],
   "source": [
    "# Import the necessary packages:\n",
    "\n",
    "import numpy as np\n",
    "from scipy.stats import beta, binom\n",
    "import matplotlib.pyplot as plt\n",
    "\n",
    "import pandas as pd\n",
    "\n",
    "%matplotlib inline"
   ]
  },
  {
   "cell_type": "code",
   "execution_count": 91,
   "metadata": {
    "ExecuteTime": {
     "end_time": "2018-03-12T17:37:21.171370Z",
     "start_time": "2018-03-12T17:37:21.166356Z"
    }
   },
   "outputs": [],
   "source": [
    "# Define our alpha and beta parameters:\n",
    "\n",
    "a = 100\n",
    "b = 100"
   ]
  },
  {
   "cell_type": "code",
   "execution_count": 44,
   "metadata": {
    "ExecuteTime": {
     "end_time": "2018-03-12T17:37:21.219999Z",
     "start_time": "2018-03-12T17:37:21.193929Z"
    }
   },
   "outputs": [],
   "source": [
    "# This is the 0th percentile of our beta distribution:\n",
    "lower = beta.ppf(0, a, b)\n",
    "\n",
    "# This is the 100th percentile of our beta distribution:\n",
    "upper = beta.ppf(1, a, b)\n",
    "\n",
    "# Generate 100 x values in the appropriate\n",
    "# range to use for plotting:\n",
    "x = np.linspace(lower, upper, 101)\n",
    "\n",
    "\n",
    "# The benefit of doing this is that we dont have \n",
    "# to know the upper and lower limits of the \n",
    "# distribution we're plotting. Although in many\n",
    "# cases, we will. The Beta distribution is always\n",
    "# defined between 0 and 1.\n",
    "\n",
    "# (If you were plotting a normal distribution,\n",
    "# you may only want to plot x values between the\n",
    "# 1st and 99th percentiles)"
   ]
  },
  {
   "cell_type": "code",
   "execution_count": 13,
   "metadata": {
    "ExecuteTime": {
     "end_time": "2018-03-12T17:42:54.981855Z",
     "start_time": "2018-03-12T17:42:54.829452Z"
    }
   },
   "outputs": [
    {
     "data": {
      "image/png": "[encoded data removed]",
      "text/plain": [
       "<matplotlib.figure.Figure at 0x7ff2fb6be3c8>"
      ]
     },
     "metadata": {},
     "output_type": "display_data"
    }
   ],
   "source": [
    "# Plot the x values, plus the corresponding probability\n",
    "# at each value, using the .pdf method of a\n",
    "# scipy.stats distribution:\n",
    "\n",
    "plt.plot(x, beta(100,100).pdf(x),\n",
    "        'b-', lw=2, alpha=1)\n",
    "\n",
    "# Plot customization:\n",
    "plt.ylabel('Density')\n",
    "plt.xlim((0,1))\n",
    "plt.xlabel('Values of p')\n",
    "plt.title(r'Beta($\\alpha=100$,$\\beta=100$)');"
   ]
  },
  {
   "cell_type": "markdown",
   "metadata": {},
   "source": [
    "This is our prior distribution. How would you summarize the prior distribution?"
   ]
  },
  {
   "cell_type": "code",
   "execution_count": 16,
   "metadata": {},
   "outputs": [
    {
     "data": {
      "text/plain": [
       "0.29157646512850627"
      ]
     },
     "execution_count": 16,
     "metadata": {},
     "output_type": "execute_result"
    }
   ],
   "source": [
    "np.std(x)"
   ]
  },
  {
   "cell_type": "code",
   "execution_count": null,
   "metadata": {
    "collapsed": true
   },
   "outputs": [],
   "source": [
    "Centered at 0.5, stdev of 0.29; note that 0.5 is the expected likelihood of flipping a head or tail"
   ]
  },
  {
   "cell_type": "markdown",
   "metadata": {},
   "source": [
    "**Question 2-b:** We have our prior beliefs about $p$, the probability of flipping heads. Suppose that you flip the coin 10 times and get 8 heads. Is this in line with our prior expectations, or does this challenge these expectations? Why?"
   ]
  },
  {
   "cell_type": "code",
   "execution_count": null,
   "metadata": {
    "collapsed": true
   },
   "outputs": [],
   "source": [
    "It challenges it because we expect about a 50/50 split"
   ]
  },
  {
   "cell_type": "markdown",
   "metadata": {},
   "source": [
    "**Question 2-c:** Let's specify our **likelihood function**. Recall that our likelihood is how we integrate data with our beliefs. Thinking back to our distributions lessons in week 2, why might a **Binomial distribution** be appropriate for this situation?"
   ]
  },
  {
   "cell_type": "code",
   "execution_count": null,
   "metadata": {
    "collapsed": true
   },
   "outputs": [],
   "source": [
    "Binomial distribution models two outputs (obverse/reverse)"
   ]
  },
  {
   "cell_type": "markdown",
   "metadata": {},
   "source": [
    "**Question 2-d:** Plot the likelihood function for the observed data, using the code above as a guide. The parameters $n$ and $p$ of the binomial distribution can be inferred from the data."
   ]
  },
  {
   "cell_type": "code",
   "execution_count": 84,
   "metadata": {},
   "outputs": [
    {
     "data": {
      "text/plain": [
       "<matplotlib.collections.LineCollection at 0x7ff2f2024710>"
      ]
     },
     "execution_count": 84,
     "metadata": {},
     "output_type": "execute_result"
    },
    {
     "data": {
      "image/png": "[encoded data removed]",
      "text/plain": [
       "<matplotlib.figure.Figure at 0x7ff2f20b42e8>"
      ]
     },
     "metadata": {},
     "output_type": "display_data"
    }
   ],
   "source": [
    "fig, ax = plt.subplots(1, 1)\n",
    "n, p = 100, 0.5\n",
    "\n",
    "x = np.linspace(1, 100, 100)\n",
    "ax.plot(x, binom.pmf(x, n, p), 'bo', ms=8, label='binom pmf')\n",
    "ax.vlines(x, 0, binom.pmf(x, n, p), colors='b', lw=5, alpha=0.5)"
   ]
  },
  {
   "cell_type": "markdown",
   "metadata": {},
   "source": [
    "**Question 2-e:** How would you describe, in English, our posterior distribution for this situation?"
   ]
  },
  {
   "cell_type": "markdown",
   "metadata": {
    "collapsed": true
   },
   "source": [
    "Posterior is a beta prior times a binomial likelihood which yields a beta posterior"
   ]
  },
  {
   "cell_type": "markdown",
   "metadata": {},
   "source": [
    "**Question 2-f:** Our posterior distribution takes on the form:\n",
    "\n",
    "$$ f(p|\\text{data}) \\propto f(\\text{data}|p)f(p) $$\n",
    "\n",
    "where $f(p)$ is our prior distribution and $f(\\text{data}|p)$ is our likelihood. If we want to get a histogram of the posterior distribution, we should take the following steps:\n",
    "\n",
    "1) Simulate one observation from $f(p)$. We'll call this $p'$.\n",
    "\n",
    "2) Given the simulated value $p'$, simulate one observation from $f(\\text{data}|p')$. We'll call this $l'$, for likelihood.\n",
    "\n",
    "3) Multiply $l'$ by $p'$. This represents one observation from our posterior distribution $f(p|\\text{data})$.\n",
    "\n",
    "4) Repeat steps 1-3 10,000 times. Then plot our simulated values from the posterior distribution. Because we repeated this a large number of times, we expect that our simulated values will look a lot like the posterior distribution. We're basically looking at that posterior distribution right now. Describe this posterior distribution, and identify your best guess, *a posteriori*, of $p$."
   ]
  },
  {
   "cell_type": "code",
   "execution_count": 96,
   "metadata": {},
   "outputs": [],
   "source": [
    "# 1) p prime\n",
    "pp = beta.rvs(a, b, size=1)"
   ]
  },
  {
   "cell_type": "code",
   "execution_count": 135,
   "metadata": {},
   "outputs": [],
   "source": [
    "# 2) \n",
    "lp = binom.rvs(1, 0.5, loc=0, size=1)"
   ]
  },
  {
   "cell_type": "code",
   "execution_count": 136,
   "metadata": {},
   "outputs": [
    {
     "data": {
      "text/plain": [
       "array([ 0.48427075])"
      ]
     },
     "execution_count": 136,
     "metadata": {},
     "output_type": "execute_result"
    }
   ],
   "source": [
    "# 3)\n",
    "pp * lp"
   ]
  },
  {
   "cell_type": "code",
   "execution_count": 158,
   "metadata": {},
   "outputs": [],
   "source": [
    "# flip a coin 10,000 times\n",
    "pp = beta.rvs(a, b, size=10000)\n",
    "lp = binom.rvs(1, 0.5, loc=0, size=10000)"
   ]
  },
  {
   "cell_type": "code",
   "execution_count": 159,
   "metadata": {},
   "outputs": [
    {
     "data": {
      "text/plain": [
       "array([[<matplotlib.axes._subplots.AxesSubplot object at 0x7ff2ea5a0160>]], dtype=object)"
      ]
     },
     "execution_count": 159,
     "metadata": {},
     "output_type": "execute_result"
    },
    {
     "data": {
      "image/png": "[encoded data removed]",
      "text/plain": [
       "<matplotlib.figure.Figure at 0x7ff2ea5c3e80>"
      ]
     },
     "metadata": {},
     "output_type": "display_data"
    }
   ],
   "source": [
    "# distribution of heads/tails for non-zero values\n",
    "df = pd.DataFrame(pp*lp, columns=['val'])\n",
    "df[df['val'] > 0].hist()"
   ]
  },
  {
   "cell_type": "markdown",
   "metadata": {},
   "source": [
    "**Question 2-g:** How does the posterior distribution compare to the prior distribution? To the likelihood? What would your posterior have looked like if you had flipped 5 heads out of 10?"
   ]
  },
  {
   "cell_type": "code",
   "execution_count": 174,
   "metadata": {},
   "outputs": [
    {
     "data": {
      "text/plain": [
       "array([[<matplotlib.axes._subplots.AxesSubplot object at 0x7ff2ea0b3898>]], dtype=object)"
      ]
     },
     "execution_count": 174,
     "metadata": {},
     "output_type": "execute_result"
    },
    {
     "data": {
      "image/png": "[encoded data removed]",
      "text/plain": [
       "<matplotlib.figure.Figure at 0x7ff2ea3ca0b8>"
      ]
     },
     "metadata": {},
     "output_type": "display_data"
    }
   ],
   "source": [
    "# flip a coin 10,000 times\n",
    "pp = beta.rvs(a, b, size=10)\n",
    "# manually setting 5 coin flips of heads\n",
    "lp = np.array([1, 1, 1, 1, 1, 0, 0, 0, 0, 0])\n",
    "# distribution of heads/tails for non-zero values\n",
    "df = pd.DataFrame(pp*lp, columns=['val'])\n",
    "df[df['val'] > 0].hist()"
   ]
  },
  {
   "cell_type": "markdown",
   "metadata": {},
   "source": [
    "**Question 3-a:** Suppose you pick up another coin on the street. Given our experiences with the last coin, we're much less certain about the probability of flipping heads $p$. Our _a priori_ beliefs about $p$ have been updated.\n",
    "\n",
    "Instead of a $Beta(\\alpha = 100, \\beta = 100)$ prior, we now have a $Beta(\\alpha = 5, \\beta = 2)$ prior.\n",
    "\n",
    "Plot this new prior and describe it in English."
   ]
  },
  {
   "cell_type": "code",
   "execution_count": null,
   "metadata": {
    "collapsed": true
   },
   "outputs": [],
   "source": []
  },
  {
   "cell_type": "markdown",
   "metadata": {},
   "source": [
    "**Bonus:** Plot the new prior and our simulated posterior on the same plot, and find $Beta$ parameters $\\alpha$ and $\\beta$ that best fit the simulated data. You may use these parameters as your new prior.\n",
    "\n",
    "_How do we know the true posterior distribution is a Beta distribution?_"
   ]
  },
  {
   "cell_type": "code",
   "execution_count": null,
   "metadata": {
    "collapsed": true
   },
   "outputs": [],
   "source": []
  },
  {
   "cell_type": "markdown",
   "metadata": {},
   "source": [
    "**Question 3-b:** You flip this new coin 15 times, and observe 7 heads! Describe how your likelihood function is different this time."
   ]
  },
  {
   "cell_type": "code",
   "execution_count": null,
   "metadata": {
    "collapsed": true
   },
   "outputs": [],
   "source": []
  },
  {
   "cell_type": "markdown",
   "metadata": {},
   "source": [
    "**Question 3-c:** Repeat question 2-f, but with the your new prior. Describe how the new data has affected the posterior distribution of $p$."
   ]
  },
  {
   "cell_type": "code",
   "execution_count": null,
   "metadata": {
    "collapsed": true
   },
   "outputs": [],
   "source": []
  },
  {
   "cell_type": "markdown",
   "metadata": {},
   "source": [
    "**Question 4-a:** As you're walking down the street, you hit your head on a signpost. You'll be fine, but for the time being you forget everything you know. Still, you continue flipping your coin.\n",
    "\n",
    "Your prior beliefs about $p$ are now represented by $Beta(\\alpha = 1, \\beta = 1)$. Why does this parameterization of the $Beta$ distribution reflect your current state?"
   ]
  },
  {
   "cell_type": "code",
   "execution_count": null,
   "metadata": {
    "collapsed": true
   },
   "outputs": [],
   "source": []
  },
  {
   "cell_type": "markdown",
   "metadata": {},
   "source": [
    "**Question 4-b:** You flip your coin twice and observe 2 tails. Plot the posterior distribution. What effect does this observed data have on the posterior distribution of $p$? How do you think it differs from the likely effect of the same data given our original prior, $Beta(\\alpha = 100, \\beta = 100)$?"
   ]
  },
  {
   "cell_type": "code",
   "execution_count": null,
   "metadata": {
    "collapsed": true
   },
   "outputs": [],
   "source": []
  }
 ],
 "metadata": {
  "kernelspec": {
   "display_name": "Python 3",
   "language": "python",
   "name": "python3"
  },
  "language_info": {
   "codemirror_mode": {
    "name": "ipython",
    "version": 3
   },
   "file_extension": ".py",
   "mimetype": "text/x-python",
   "name": "python",
   "nbconvert_exporter": "python",
   "pygments_lexer": "ipython3",
   "version": "3.6.3"
  },
  "toc": {
   "nav_menu": {},
   "number_sections": true,
   "sideBar": true,
   "skip_h1_title": false,
   "title_cell": "Table of Contents",
   "title_sidebar": "Contents",
   "toc_cell": false,
   "toc_position": {},
   "toc_section_display": true,
   "toc_window_display": false
  },
  "varInspector": {
   "cols": {
    "lenName": 16,
    "lenType": 16,
    "lenVar": 40
   },
   "kernels_config": {
    "python": {
     "delete_cmd_postfix": "",
     "delete_cmd_prefix": "del ",
     "library": "var_list.py",
     "varRefreshCmd": "print(var_dic_list())"
    },
    "r": {
     "delete_cmd_postfix": ") ",
     "delete_cmd_prefix": "rm(",
     "library": "var_list.r",
     "varRefreshCmd": "cat(var_dic_list()) "
    }
   },
   "types_to_exclude": [
    "module",
    "function",
    "builtin_function_or_method",
    "instance",
    "_Feature"
   ],
   "window_display": false
  }
 },
 "nbformat": 4,
 "nbformat_minor": 2
}
