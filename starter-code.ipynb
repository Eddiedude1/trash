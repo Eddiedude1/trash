{
 "cells": [
  {
   "cell_type": "markdown",
   "metadata": {},
   "source": [
    "###  ![](https://ga-dash.s3.amazonaws.com/production/assets/logo-9f88ae6c9c3871690e33280fcf557f33.png) Lab 3.04 | Regression Metrics Lab"
   ]
  },
  {
   "cell_type": "markdown",
   "metadata": {},
   "source": [
    "Exercise 1: Build a function called `r2_adj()` that will calculate $R^2_{adj}$ for a model. For inputs, you'll need `y_true`, `y_preds`, the average value of $y$, the number of variables $p$, and the number of observations $n$."
   ]
  },
  {
   "cell_type": "code",
   "execution_count": 8,
   "metadata": {},
   "outputs": [
    {
     "name": "stderr",
     "output_type": "stream",
     "text": [
      "/home/greg/miniconda3/envs/ga/lib/python3.6/site-packages/statsmodels/compat/pandas.py:56: FutureWarning: The pandas.core.datetools module is deprecated and will be removed in a future version. Please use the pandas.tseries module instead.\n",
      "  from pandas.core import datetools\n"
     ]
    }
   ],
   "source": [
    "import sklearn.metrics as metrics\n",
    "import statsmodels.api as sm\n",
    "import numpy as np\n",
    "import pandas as pd"
   ]
  },
  {
   "cell_type": "code",
   "execution_count": 5,
   "metadata": {},
   "outputs": [
    {
     "data": {
      "text/html": [
       "<div>\n",
       "<style scoped>\n",
       "    .dataframe tbody tr th:only-of-type {\n",
       "        vertical-align: middle;\n",
       "    }\n",
       "\n",
       "    .dataframe tbody tr th {\n",
       "        vertical-align: top;\n",
       "    }\n",
       "\n",
       "    .dataframe thead th {\n",
       "        text-align: right;\n",
       "    }\n",
       "</style>\n",
       "<table border=\"1\" class=\"dataframe\">\n",
       "  <thead>\n",
       "    <tr style=\"text-align: right;\">\n",
       "      <th></th>\n",
       "      <th>X</th>\n",
       "      <th>Y</th>\n",
       "      <th>month</th>\n",
       "      <th>day</th>\n",
       "      <th>FFMC</th>\n",
       "      <th>DMC</th>\n",
       "      <th>DC</th>\n",
       "      <th>ISI</th>\n",
       "      <th>temp</th>\n",
       "      <th>RH</th>\n",
       "      <th>wind</th>\n",
       "      <th>rain</th>\n",
       "      <th>area</th>\n",
       "    </tr>\n",
       "  </thead>\n",
       "  <tbody>\n",
       "    <tr>\n",
       "      <th>0</th>\n",
       "      <td>7</td>\n",
       "      <td>5</td>\n",
       "      <td>mar</td>\n",
       "      <td>fri</td>\n",
       "      <td>86.2</td>\n",
       "      <td>26.2</td>\n",
       "      <td>94.3</td>\n",
       "      <td>5.1</td>\n",
       "      <td>8.2</td>\n",
       "      <td>51</td>\n",
       "      <td>6.7</td>\n",
       "      <td>0.0</td>\n",
       "      <td>0.0</td>\n",
       "    </tr>\n",
       "    <tr>\n",
       "      <th>1</th>\n",
       "      <td>7</td>\n",
       "      <td>4</td>\n",
       "      <td>oct</td>\n",
       "      <td>tue</td>\n",
       "      <td>90.6</td>\n",
       "      <td>35.4</td>\n",
       "      <td>669.1</td>\n",
       "      <td>6.7</td>\n",
       "      <td>18.0</td>\n",
       "      <td>33</td>\n",
       "      <td>0.9</td>\n",
       "      <td>0.0</td>\n",
       "      <td>0.0</td>\n",
       "    </tr>\n",
       "  </tbody>\n",
       "</table>\n",
       "</div>"
      ],
      "text/plain": [
       "   X  Y month  day  FFMC   DMC     DC  ISI  temp  RH  wind  rain  area\n",
       "0  7  5   mar  fri  86.2  26.2   94.3  5.1   8.2  51   6.7   0.0   0.0\n",
       "1  7  4   oct  tue  90.6  35.4  669.1  6.7  18.0  33   0.9   0.0   0.0"
      ]
     },
     "execution_count": 5,
     "metadata": {},
     "output_type": "execute_result"
    }
   ],
   "source": [
    "ff = pd.read_csv('forestfires.csv')\n",
    "ff.head(2)"
   ]
  },
  {
   "cell_type": "markdown",
   "metadata": {},
   "source": [
    "#### r2_adj_brems: (this does not agree with OLS.model.summary())\n",
    "\n",
    "$$R^2_{adj} = 1 - \\frac{\\frac{1}{n-p-1}\\sum_{i=1}^n(y_i - \\hat{y}_i)^2}{\\frac{1}{n-1}\\sum_{i=1}^n(y_i - \\bar{y})^2}$$\n",
    "\n",
    "#### r2_adj_greg: (this appears to agree with OLS.model.summary())\n",
    "\n",
    "$$R^2_{adj} = 1 - \\frac{{(n-1)}{(1-\\frac{\\sum_{i=1}^n(\\hat{y}_i - \\bar{y})^2}{\\sum_{i=1}^n(y_i - \\bar{y})^2} )}}{(n-p-1)}$$"
   ]
  },
  {
   "cell_type": "code",
   "execution_count": 6,
   "metadata": {},
   "outputs": [],
   "source": [
    "def r2_adj_brems(y_true, y_preds, p, n):\n",
    "    y_mean = np.mean(y_true)\n",
    "    numerator = np.sum(np.square(y_true - y_preds)) / (n - p - 1)\n",
    "    denominator = np.sum(np.square(y_true - y_mean)) / (n - 1)\n",
    "    return numerator / denominator"
   ]
  },
  {
   "cell_type": "code",
   "execution_count": 63,
   "metadata": {},
   "outputs": [],
   "source": [
    "def r2_adj_greg(y_true, y_preds, p):\n",
    "    n = len(y_preds)        #number of observations\n",
    "    y_avg = np.mean(y_true) #average of true y-values\n",
    "    \n",
    "    num_sum = 0\n",
    "    denom_sum = 0\n",
    "    \n",
    "    num = 1/(n-1)\n",
    "    denom = 1/(n-p-1)\n",
    "    \n",
    "    for yp in (y_preds): #calculates sigma (sum) for numerator\n",
    "        num_sum += (yp - y_avg)**2\n",
    "    for yt in y_true:                  #calculates sigma (sum) for denomenator\n",
    "        denom_sum += (yt - y_avg)**2\n",
    "        \n",
    "    return 1 - (((n - 1)*(1-(num_sum/denom_sum)))/(n-p-1)) #return adjusted r^2 value"
   ]
  },
  {
   "cell_type": "markdown",
   "metadata": {},
   "source": [
    "Exercise 2: Using the forest fire data from the lesson, build two models in `statsmodels`, one of which should include at least one newly-engineered feature. \n",
    "\n",
    "Test your output of Exercise 1 by running `r2_adj()` on both models and by checking `.summary()` of the models. (Adjusted $R^2$ is in the summary.)"
   ]
  },
  {
   "cell_type": "code",
   "execution_count": 64,
   "metadata": {},
   "outputs": [],
   "source": [
    "X = ff.drop(columns=['area', 'month', 'day'])\n",
    "y = ff['area']"
   ]
  },
  {
   "cell_type": "code",
   "execution_count": 65,
   "metadata": {},
   "outputs": [
    {
     "data": {
      "text/html": [
       "<table class=\"simpletable\">\n",
       "<caption>OLS Regression Results</caption>\n",
       "<tr>\n",
       "  <th>Dep. Variable:</th>          <td>area</td>       <th>  R-squared:         </th> <td>   0.022</td>\n",
       "</tr>\n",
       "<tr>\n",
       "  <th>Model:</th>                   <td>OLS</td>       <th>  Adj. R-squared:    </th> <td>   0.002</td>\n",
       "</tr>\n",
       "<tr>\n",
       "  <th>Method:</th>             <td>Least Squares</td>  <th>  F-statistic:       </th> <td>   1.119</td>\n",
       "</tr>\n",
       "<tr>\n",
       "  <th>Date:</th>             <td>Wed, 31 Jan 2018</td> <th>  Prob (F-statistic):</th>  <td> 0.345</td> \n",
       "</tr>\n",
       "<tr>\n",
       "  <th>Time:</th>                 <td>10:09:51</td>     <th>  Log-Likelihood:    </th> <td> -2874.8</td>\n",
       "</tr>\n",
       "<tr>\n",
       "  <th>No. Observations:</th>      <td>   517</td>      <th>  AIC:               </th> <td>   5772.</td>\n",
       "</tr>\n",
       "<tr>\n",
       "  <th>Df Residuals:</th>          <td>   506</td>      <th>  BIC:               </th> <td>   5818.</td>\n",
       "</tr>\n",
       "<tr>\n",
       "  <th>Df Model:</th>              <td>    10</td>      <th>                     </th>     <td> </td>   \n",
       "</tr>\n",
       "<tr>\n",
       "  <th>Covariance Type:</th>      <td>nonrobust</td>    <th>                     </th>     <td> </td>   \n",
       "</tr>\n",
       "</table>\n",
       "<table class=\"simpletable\">\n",
       "<tr>\n",
       "    <td></td>       <th>coef</th>     <th>std err</th>      <th>t</th>      <th>P>|t|</th>  <th>[0.025</th>    <th>0.975]</th>  \n",
       "</tr>\n",
       "<tr>\n",
       "  <th>const</th> <td>   -6.3693</td> <td>   63.019</td> <td>   -0.101</td> <td> 0.920</td> <td> -130.181</td> <td>  117.443</td>\n",
       "</tr>\n",
       "<tr>\n",
       "  <th>X</th>     <td>    1.9079</td> <td>    1.448</td> <td>    1.317</td> <td> 0.188</td> <td>   -0.938</td> <td>    4.753</td>\n",
       "</tr>\n",
       "<tr>\n",
       "  <th>Y</th>     <td>    0.5692</td> <td>    2.736</td> <td>    0.208</td> <td> 0.835</td> <td>   -4.807</td> <td>    5.945</td>\n",
       "</tr>\n",
       "<tr>\n",
       "  <th>FFMC</th>  <td>   -0.0392</td> <td>    0.661</td> <td>   -0.059</td> <td> 0.953</td> <td>   -1.337</td> <td>    1.259</td>\n",
       "</tr>\n",
       "<tr>\n",
       "  <th>DMC</th>   <td>    0.0773</td> <td>    0.067</td> <td>    1.151</td> <td> 0.250</td> <td>   -0.055</td> <td>    0.209</td>\n",
       "</tr>\n",
       "<tr>\n",
       "  <th>DC</th>    <td>   -0.0033</td> <td>    0.016</td> <td>   -0.200</td> <td> 0.841</td> <td>   -0.036</td> <td>    0.029</td>\n",
       "</tr>\n",
       "<tr>\n",
       "  <th>ISI</th>   <td>   -0.7137</td> <td>    0.772</td> <td>   -0.925</td> <td> 0.355</td> <td>   -2.229</td> <td>    0.802</td>\n",
       "</tr>\n",
       "<tr>\n",
       "  <th>temp</th>  <td>    0.8002</td> <td>    0.787</td> <td>    1.017</td> <td> 0.310</td> <td>   -0.746</td> <td>    2.347</td>\n",
       "</tr>\n",
       "<tr>\n",
       "  <th>RH</th>    <td>   -0.2306</td> <td>    0.237</td> <td>   -0.972</td> <td> 0.332</td> <td>   -0.697</td> <td>    0.236</td>\n",
       "</tr>\n",
       "<tr>\n",
       "  <th>wind</th>  <td>    1.5574</td> <td>    1.670</td> <td>    0.933</td> <td> 0.352</td> <td>   -1.724</td> <td>    4.839</td>\n",
       "</tr>\n",
       "<tr>\n",
       "  <th>rain</th>  <td>   -3.4040</td> <td>    9.681</td> <td>   -0.352</td> <td> 0.725</td> <td>  -22.424</td> <td>   15.616</td>\n",
       "</tr>\n",
       "</table>\n",
       "<table class=\"simpletable\">\n",
       "<tr>\n",
       "  <th>Omnibus:</th>       <td>975.065</td> <th>  Durbin-Watson:     </th>  <td>   1.647</td> \n",
       "</tr>\n",
       "<tr>\n",
       "  <th>Prob(Omnibus):</th> <td> 0.000</td>  <th>  Jarque-Bera (JB):  </th> <td>781330.782</td>\n",
       "</tr>\n",
       "<tr>\n",
       "  <th>Skew:</th>          <td>12.570</td>  <th>  Prob(JB):          </th>  <td>    0.00</td> \n",
       "</tr>\n",
       "<tr>\n",
       "  <th>Kurtosis:</th>      <td>191.782</td> <th>  Cond. No.          </th>  <td>1.40e+04</td> \n",
       "</tr>\n",
       "</table>"
      ],
      "text/plain": [
       "<class 'statsmodels.iolib.summary.Summary'>\n",
       "\"\"\"\n",
       "                            OLS Regression Results                            \n",
       "==============================================================================\n",
       "Dep. Variable:                   area   R-squared:                       0.022\n",
       "Model:                            OLS   Adj. R-squared:                  0.002\n",
       "Method:                 Least Squares   F-statistic:                     1.119\n",
       "Date:                Wed, 31 Jan 2018   Prob (F-statistic):              0.345\n",
       "Time:                        10:09:51   Log-Likelihood:                -2874.8\n",
       "No. Observations:                 517   AIC:                             5772.\n",
       "Df Residuals:                     506   BIC:                             5818.\n",
       "Df Model:                          10                                         \n",
       "Covariance Type:            nonrobust                                         \n",
       "==============================================================================\n",
       "                 coef    std err          t      P>|t|      [0.025      0.975]\n",
       "------------------------------------------------------------------------------\n",
       "const         -6.3693     63.019     -0.101      0.920    -130.181     117.443\n",
       "X              1.9079      1.448      1.317      0.188      -0.938       4.753\n",
       "Y              0.5692      2.736      0.208      0.835      -4.807       5.945\n",
       "FFMC          -0.0392      0.661     -0.059      0.953      -1.337       1.259\n",
       "DMC            0.0773      0.067      1.151      0.250      -0.055       0.209\n",
       "DC            -0.0033      0.016     -0.200      0.841      -0.036       0.029\n",
       "ISI           -0.7137      0.772     -0.925      0.355      -2.229       0.802\n",
       "temp           0.8002      0.787      1.017      0.310      -0.746       2.347\n",
       "RH            -0.2306      0.237     -0.972      0.332      -0.697       0.236\n",
       "wind           1.5574      1.670      0.933      0.352      -1.724       4.839\n",
       "rain          -3.4040      9.681     -0.352      0.725     -22.424      15.616\n",
       "==============================================================================\n",
       "Omnibus:                      975.065   Durbin-Watson:                   1.647\n",
       "Prob(Omnibus):                  0.000   Jarque-Bera (JB):           781330.782\n",
       "Skew:                          12.570   Prob(JB):                         0.00\n",
       "Kurtosis:                     191.782   Cond. No.                     1.40e+04\n",
       "==============================================================================\n",
       "\n",
       "Warnings:\n",
       "[1] Standard Errors assume that the covariance matrix of the errors is correctly specified.\n",
       "[2] The condition number is large, 1.4e+04. This might indicate that there are\n",
       "strong multicollinearity or other numerical problems.\n",
       "\"\"\""
      ]
     },
     "execution_count": 65,
     "metadata": {},
     "output_type": "execute_result"
    }
   ],
   "source": [
    "# add in a column of 1 for a y-intercept term\n",
    "X = sm.add_constant(X)\n",
    "# instantiate the model\n",
    "mod = sm.OLS(y, X)\n",
    "# fit the OLS regression to the data\n",
    "mod = mod.fit()\n",
    "# print out R^2 and R^2_adj\n",
    "mod.summary()"
   ]
  },
  {
   "cell_type": "code",
   "execution_count": 66,
   "metadata": {},
   "outputs": [
    {
     "data": {
      "text/plain": [
       "0.99967098403713284"
      ]
     },
     "execution_count": 66,
     "metadata": {},
     "output_type": "execute_result"
    }
   ],
   "source": [
    "# this is the result you'd get if you copied the formula or R^2_adj from 3.04-regression-metrics.ipynb \n",
    "r2_adj_brems(y, mod.predict(X), len(X.columns), len(X))"
   ]
  },
  {
   "cell_type": "code",
   "execution_count": 68,
   "metadata": {},
   "outputs": [
    {
     "data": {
      "text/plain": [
       "0.0023046503186719969"
      ]
     },
     "execution_count": 68,
     "metadata": {},
     "output_type": "execute_result"
    }
   ],
   "source": [
    "# this is the result you get if you use the corrected formula above, from r2_adj_greg\n",
    "# note that you MUST subtract 1 from p if you're using an intercept (constant) term. \n",
    "# note that mod.summary() automatically subtracts this from their summary results\n",
    "# if you add the term with sm.add_constant()\n",
    "r2_adj_greg(y, mod.predict(X), len(X.columns)-1)  # subtract 1 if you're using the constant"
   ]
  },
  {
   "cell_type": "markdown",
   "metadata": {},
   "source": [
    "Exercise 3: Suppose we build two models. Model 1 has predicted outputs `y_preds_1` and Model 2 has predicted outputs `y_preds_2`. We now have the question we'll always have:\n",
    "\n",
    "*(Okay, maybe which model should I pick?)*\n",
    "\n",
    "Build a function:\n",
    "- called `model_picker()`\n",
    "- that accepts `y_true`, `y_preds_1`, and `y_preds_2` as inputs, and\n",
    "- returns:\n",
    "    - $R^2$, MSE, RMSE, MedAE, and MSLE for model 1,\n",
    "    - $R^2$, MSE, RMSE, MedAE, and MSLE for model 2,\n",
    "    - \"Model 1 is the model to pick!\" if all of Model 1's scores are better than Model 2,\n",
    "    - \"Model 2 is the model to pick!\" if all of Model 2's scores are better than Model 1, or\n",
    "    - \"Neither model wins.\" if neither model is uniformly better than the other.\n"
   ]
  },
  {
   "cell_type": "code",
   "execution_count": null,
   "metadata": {
    "collapsed": true
   },
   "outputs": [],
   "source": []
  },
  {
   "cell_type": "markdown",
   "metadata": {},
   "source": [
    "Exercise 4: Using the forest fire data from the lesson, build two models in `scikit-learn`, one of which should include at least one newly-engineered feature. \n",
    "\n",
    "Test your output of Exercise 1 by running `r2_adj()` on both models and by checking `.summary()` of the models. (Adjusted $R^2$ is in the summary.)"
   ]
  },
  {
   "cell_type": "code",
   "execution_count": null,
   "metadata": {
    "collapsed": true
   },
   "outputs": [],
   "source": []
  },
  {
   "cell_type": "markdown",
   "metadata": {},
   "source": [
    "BONUS: Adapt `model_picker()` to include $R^2_{adj}$ in its analysis. Note that you'll have to add certain inputs that you used in `r2_adj()`."
   ]
  },
  {
   "cell_type": "code",
   "execution_count": null,
   "metadata": {
    "collapsed": true
   },
   "outputs": [],
   "source": []
  }
 ],
 "metadata": {
  "kernelspec": {
   "display_name": "Python 3",
   "language": "python",
   "name": "python3"
  },
  "language_info": {
   "codemirror_mode": {
    "name": "ipython",
    "version": 3
   },
   "file_extension": ".py",
   "mimetype": "text/x-python",
   "name": "python",
   "nbconvert_exporter": "python",
   "pygments_lexer": "ipython3",
   "version": "3.6.3"
  }
 },
 "nbformat": 4,
 "nbformat_minor": 2
}
